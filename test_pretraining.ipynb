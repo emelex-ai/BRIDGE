{
 "cells": [
  {
   "cell_type": "code",
   "execution_count": 1,
   "metadata": {},
   "outputs": [],
   "source": [
    "\n",
    "from src.domain.model import Model\n",
    "from src.domain.datamodels import DatasetConfig, ModelConfig\n",
    "import torch\n",
    "from src.application.handlers import (\n",
    "    ModelConfigHandler,\n",
    "    DatasetConfigHandler,\n",
    "    TrainingConfigHandler,\n",
    "    WandbConfigHandler,\n",
    "    LoggingConfigHandler,\n",
    "    TrainModelHandler,\n",
    ")\n",
    "import os\n",
    "import sys\n",
    "\n",
    "import torch\n",
    "from src.application.training.phon_metrics import calculate_phoneme_wise_accuracy\n",
    "\n",
    "from src.domain.datamodels.dataset_config import DatasetConfig\n",
    "from src.domain.datamodels.encodings import BridgeEncoding\n",
    "from src.domain.datamodels.model_config import ModelConfig\n",
    "from src.domain.datamodels.training_config import TrainingConfig\n",
    "from src.domain.dataset.bridge_dataset import BridgeDataset\n",
    "from src.domain.model.model import Model"
   ]
  },
  {
   "cell_type": "code",
   "execution_count": 3,
   "metadata": {},
   "outputs": [
    {
     "name": "stderr",
     "output_type": "stream",
     "text": [
      "/tmp/ipykernel_52420/2153777246.py:11: FutureWarning: You are using `torch.load` with `weights_only=False` (the current default value), which uses the default pickle module implicitly. It is possible to construct malicious pickle data which will execute arbitrary code during unpickling (See https://github.com/pytorch/pytorch/blob/main/SECURITY.md#untrusted-models for more details). In a future release, the default value for `weights_only` will be flipped to `True`. This limits the functions that could be executed during unpickling. Arbitrary objects will no longer be allowed to be loaded via this mode unless they are explicitly allowlisted by the user via `torch.serialization.add_safe_globals`. We recommend you start setting `weights_only=True` for any use case where you don't have full control of the loaded file. Please open an issue on GitHub for any issues related to this experimental feature.\n",
      "  checkpoint = torch.load(training_config.checkpoint_path)\n"
     ]
    }
   ],
   "source": [
    "\n",
    "# Load the model checkpoint\n",
    "model_config: ModelConfig = ModelConfigHandler(config_filepath='app/config/model_config.yaml').get_config()\n",
    "dataset_config: DatasetConfig = DatasetConfigHandler(config_filepath='app/config/dataset_config.yaml').get_config()\n",
    "training_config: TrainingConfig = TrainingConfigHandler(config_filepath='app/config/training_config.yaml').get_config()\n",
    "bridge_dataset = BridgeDataset(dataset_config=dataset_config, device=training_config.device)\n",
    "model=Model(\n",
    "    model_config=model_config,\n",
    "    dataset_config=dataset_config,\n",
    "    device=training_config.device,\n",
    ")\n",
    "checkpoint = torch.load(training_config.checkpoint_path)\n",
    "model.load_state_dict(checkpoint[\"model_state_dict\"])\n",
    "\n",
    "# Load the test dataset\n",
    "dataset_config.dataset_filepath = 'data/tests/fry_1980.pkl'\n",
    "dataset_config.max_orth_seq_len = None\n",
    "dataset_config.max_phon_seq_len = None\n",
    "test_dataset = BridgeDataset(dataset_config=dataset_config, device=training_config.device)"
   ]
  },
  {
   "cell_type": "code",
   "execution_count": 5,
   "metadata": {},
   "outputs": [
    {
     "name": "stderr",
     "output_type": "stream",
     "text": [
      "/usr/local/lib/python3.12/dist-packages/torch/nn/modules/transformer.py:409: UserWarning: The PyTorch API of nested tensors is in prototype stage and will change in the near future. (Triggered internally at ../aten/src/ATen/NestedTensorImpl.cpp:178.)\n",
      "  output = torch._nested_tensor_from_mask(output, src_key_padding_mask.logical_not(), mask_check=False)\n"
     ]
    }
   ],
   "source": [
    "output = model.generate(test_dataset.data, pathway='p2p')"
   ]
  },
  {
   "cell_type": "code",
   "execution_count": 8,
   "metadata": {},
   "outputs": [],
   "source": [
    "# Prepare the true and predicted phoneme sequences\n",
    "phon_pred = output.phon_vecs\n",
    "phon_true = test_dataset.data.phonological.targets\n",
    "phon_pred = torch.stack([torch.stack(i) for i in phon_pred])\n"
   ]
  },
  {
   "cell_type": "code",
   "execution_count": 9,
   "metadata": {},
   "outputs": [
    {
     "data": {
      "text/plain": [
       "(torch.Size([299, 10, 33]), torch.Size([299, 10, 33]))"
      ]
     },
     "execution_count": 9,
     "metadata": {},
     "output_type": "execute_result"
    }
   ],
   "source": [
    "phon_pred.shape, phon_true.shape"
   ]
  },
  {
   "cell_type": "code",
   "execution_count": 10,
   "metadata": {},
   "outputs": [],
   "source": [
    "# Mask the padding tokens\n",
    "phon_valid_mask = phon_true != 2\n",
    "masked_phon_true = phon_true[phon_valid_mask]\n",
    "masked_phon_pred = phon_pred[phon_valid_mask]\n",
    "phoneme_wise_mask = phon_pred == phon_true"
   ]
  },
  {
   "cell_type": "code",
   "execution_count": 11,
   "metadata": {},
   "outputs": [
    {
     "data": {
      "text/plain": [
       "(tensor(0.9992), tensor(1.), tensor(0.9999), tensor(0.0008))"
      ]
     },
     "execution_count": 11,
     "metadata": {},
     "output_type": "execute_result"
    }
   ],
   "source": [
    "\n",
    "\n",
    "from src.application.training.phon_metrics import calculate_cosine_distance, calculate_euclidean_distance, calculate_phon_word_accuracy\n",
    "\n",
    "\n",
    "phoneme_wise_accuracy = calculate_phoneme_wise_accuracy(\n",
    "        phon_true, masked_phon_true, phoneme_wise_mask\n",
    "    )\n",
    "word_wise_accuracy = calculate_phon_word_accuracy(\n",
    "    phon_true[:64], phoneme_wise_mask[:64]\n",
    ")\n",
    "cosine_accuracy = calculate_cosine_distance(phon_true, phon_pred)\n",
    "euclidean_distance = calculate_euclidean_distance(phon_true, phon_pred)\n",
    "phoneme_wise_accuracy, word_wise_accuracy, cosine_accuracy, euclidean_distance"
   ]
  },
  {
   "cell_type": "code",
   "execution_count": 4,
   "metadata": {},
   "outputs": [],
   "source": [
    "logits = model.forward('p2p', phon_enc_input=test_dataset.data.phonological.enc_input_ids,\n",
    "                               phon_enc_pad_mask=test_dataset.data.phonological.enc_pad_mask,\n",
    "                               phon_dec_input=test_dataset.data.phonological.dec_input_ids,\n",
    "                               phon_dec_pad_mask=test_dataset.data.phonological.dec_pad_mask)"
   ]
  },
  {
   "cell_type": "code",
   "execution_count": null,
   "metadata": {},
   "outputs": [],
   "source": [
    "phon_pred = torch.argmax(logits[\"phon\"], dim=1)\n",
    "phon_pred.shape"
   ]
  }
 ],
 "metadata": {
  "kernelspec": {
   "display_name": "Python 3",
   "language": "python",
   "name": "python3"
  },
  "language_info": {
   "codemirror_mode": {
    "name": "ipython",
    "version": 3
   },
   "file_extension": ".py",
   "mimetype": "text/x-python",
   "name": "python",
   "nbconvert_exporter": "python",
   "pygments_lexer": "ipython3",
   "version": "3.12.8"
  }
 },
 "nbformat": 4,
 "nbformat_minor": 2
}
