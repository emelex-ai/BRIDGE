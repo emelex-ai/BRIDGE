{
 "cells": [
  {
   "cell_type": "code",
   "execution_count": 4,
   "id": "57e45716",
   "metadata": {},
   "outputs": [
    {
     "name": "stdout",
     "output_type": "stream",
     "text": [
      "  word_raw  count\n",
      "0     long   1359\n",
      "1   pencil    332\n",
      "2       or   3883\n",
      "3       at   9987\n",
      "4       do  27116\n",
      "Loaded 7300 rows and 2 columns.\n"
     ]
    }
   ],
   "source": [
    "from src.infra.clients.gcp.gcs_client import GCSClient\n",
    "\n",
    "\n",
    "def main():\n",
    "    # 1) If you’ve already set GOOGLE_APPLICATION_CREDENTIALS or ADC via gcloud:\n",
    "    client = GCSClient(project=\"bridge-457501\")\n",
    "\n",
    "    # 2) Read the CSV directly into pandas:\n",
    "    df = client.read_csv(\n",
    "        bucket_name=\"bridge-ml-training\",\n",
    "        blob_name=\"datasets/pretraining/data_1.csv\",\n",
    "        sep=\",\",  # optional: change delimiter\n",
    "        parse_dates=True,  # optional: auto‑parse dates\n",
    "        dtype={\"col1\": str},  # optional: force a column’s dtype\n",
    "    )\n",
    "\n",
    "    # 3) Work with your DataFrame\n",
    "    print(df.head())\n",
    "    print(f\"Loaded {len(df)} rows and {len(df.columns)} columns.\")\n",
    "\n",
    "\n",
    "if __name__ == \"__main__\":\n",
    "    main()"
   ]
  },
  {
   "cell_type": "code",
   "execution_count": null,
   "id": "19d679ec",
   "metadata": {},
   "outputs": [],
   "source": []
  }
 ],
 "metadata": {
  "kernelspec": {
   "display_name": "bridge",
   "language": "python",
   "name": "python3"
  },
  "language_info": {
   "codemirror_mode": {
    "name": "ipython",
    "version": 3
   },
   "file_extension": ".py",
   "mimetype": "text/x-python",
   "name": "python",
   "nbconvert_exporter": "python",
   "pygments_lexer": "ipython3",
   "version": "3.12.7"
  }
 },
 "nbformat": 4,
 "nbformat_minor": 5
}
