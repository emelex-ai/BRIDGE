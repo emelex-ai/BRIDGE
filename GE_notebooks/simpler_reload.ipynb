{
 "cells": [
  {
   "attachments": {},
   "cell_type": "markdown",
   "metadata": {},
   "source": [
    "# Test model reload\n",
    "## Author: G. Erlebacher\n",
    "We will perform a very simple experiment: \n",
    "- a single layer with one input and one output, with two parameters to train. \n",
    "- Initialize the model and save the initial state, `model0`\n",
    "- Run the `model0` for a single epoch and save it to `model1`\n",
    "- Run `model0` for two epochs and save the results to `model2a`\n",
    "- load `model1` and run `model1` for a single epoch. Save this to `model2b`\n",
    "- Compare `model2a` and `model2b`. They should be identical."
   ]
  },
  {
   "cell_type": "code",
   "execution_count": 1,
   "metadata": {},
   "outputs": [],
   "source": [
    "import torch\n",
    "import numpy as np"
   ]
  },
  {
   "cell_type": "code",
   "execution_count": 4,
   "metadata": {},
   "outputs": [],
   "source": [
    "x = np.random.rand(10)\n",
    "ylab = .3 * x + .1 + np.random.rand(10) * .02\n",
    "\n",
    "# reshape for batch size with all the points\n",
    "x = torch.as_tensor(x, dtype=torch.float32).view(-1, 1)\n",
    "ylab = torch.as_tensor(ylab, dtype=torch.float32).view(-1, 1)"
   ]
  },
  {
   "cell_type": "code",
   "execution_count": 6,
   "metadata": {},
   "outputs": [
    {
     "name": "stderr",
     "output_type": "stream",
     "text": [
      "/Users/erlebach/opt/anaconda3/envs/torch/lib/python3.8/site-packages/torch/nn/_reduction.py:42: UserWarning: size_average and reduce args will be deprecated, please use reduction='mean' instead.\n",
      "  warnings.warn(warning.format(ret))\n"
     ]
    }
   ],
   "source": [
    "model = torch.nn.Linear(1, 1, dtype=torch.float32)\n",
    "loss_fct = torch.nn.MSELoss(reduce='mean')\n",
    "opt = torch.optim.SGD(model.parameters(), lr=1e-3)"
   ]
  },
  {
   "attachments": {},
   "cell_type": "markdown",
   "metadata": {},
   "source": []
  },
  {
   "cell_type": "code",
   "execution_count": 7,
   "metadata": {},
   "outputs": [],
   "source": [
    "def save_model(model, opt):\n",
    "    file_name = \"linear_model.pth\"\n",
    "    torch.save({\n",
    "        \"model\": model, \n",
    "        \"opt\": opt\n",
    "    }, file_name)\n",
    "\n",
    "def load_model():\n",
    "    file_name = \"linear_model.pth\"\n",
    "    checkpoint = torch.load(file_name)\n",
    "    return checkpoint[\"model\"], checkpoint[\"opt\"]"
   ]
  },
  {
   "cell_type": "code",
   "execution_count": 37,
   "metadata": {},
   "outputs": [],
   "source": [
    "def print_weight_norms(model, msg):\n",
    "    norm = torch.sqrt(sum([torch.norm(w[0], p=2) ** 2 for w in model.parameters()]))\n",
    "    print(f\"==> {msg}, {norm}\")"
   ]
  },
  {
   "cell_type": "code",
   "execution_count": 38,
   "metadata": {},
   "outputs": [],
   "source": [
    "save_model(model, opt)\n",
    "model1, opt1 = load_model()"
   ]
  },
  {
   "cell_type": "code",
   "execution_count": 42,
   "metadata": {},
   "outputs": [],
   "source": [
    "def train_model(model, opt):\n",
    "    n_epochs = 3\n",
    "    for _ in range(n_epochs):\n",
    "        model.train()\n",
    "        y_pred = model(x)\n",
    "        loss = loss_fct(y_pred, ylab)\n",
    "        print(\"loss: \", loss.item())\n",
    "        print(model.state_dict())\n",
    "        print_weight_norms(model, \"Weight norms: \")\n",
    "        if model.training:\n",
    "            loss.backward()\n",
    "            opt.step()"
   ]
  },
  {
   "cell_type": "code",
   "execution_count": 43,
   "metadata": {},
   "outputs": [
    {
     "name": "stdout",
     "output_type": "stream",
     "text": [
      "loss:  0.006478526629507542\n",
      "OrderedDict([('weight', tensor([[0.2338]])), ('bias', tensor([0.0592]))])\n",
      "==> Weight norms: , 0.2412053942680359\n",
      "loss:  0.005174466408789158\n",
      "OrderedDict([('weight', tensor([[0.2374]])), ('bias', tensor([0.0662]))])\n",
      "==> Weight norms: , 0.24643538892269135\n",
      "loss:  0.003998951055109501\n",
      "OrderedDict([('weight', tensor([[0.2410]])), ('bias', tensor([0.0733]))])\n",
      "==> Weight norms: , 0.2519116997718811\n"
     ]
    }
   ],
   "source": [
    "train_model(model, opt)"
   ]
  },
  {
   "cell_type": "code",
   "execution_count": 44,
   "metadata": {},
   "outputs": [
    {
     "name": "stdout",
     "output_type": "stream",
     "text": [
      "loss:  0.01692776195704937\n",
      "OrderedDict([('weight', tensor([[0.2133]])), ('bias', tensor([0.0190]))])\n",
      "==> Weight norms: , 0.21418455243110657\n",
      "loss:  0.016600437462329865\n",
      "OrderedDict([('weight', tensor([[0.2139]])), ('bias', tensor([0.0200]))])\n",
      "==> Weight norms: , 0.21480286121368408\n",
      "loss:  0.01619659550487995\n",
      "OrderedDict([('weight', tensor([[0.2145]])), ('bias', tensor([0.0213]))])\n",
      "==> Weight norms: , 0.21558034420013428\n"
     ]
    }
   ],
   "source": [
    "train_model(model1, opt1)"
   ]
  },
  {
   "cell_type": "code",
   "execution_count": null,
   "metadata": {},
   "outputs": [],
   "source": []
  },
  {
   "cell_type": "code",
   "execution_count": null,
   "metadata": {},
   "outputs": [],
   "source": []
  }
 ],
 "metadata": {
  "kernelspec": {
   "display_name": "Python 3",
   "language": "python",
   "name": "python3"
  },
  "language_info": {
   "codemirror_mode": {
    "name": "ipython",
    "version": 3
   },
   "file_extension": ".py",
   "mimetype": "text/x-python",
   "name": "python",
   "nbconvert_exporter": "python",
   "pygments_lexer": "ipython3",
   "version": "3.8.13"
  },
  "orig_nbformat": 4,
  "vscode": {
   "interpreter": {
    "hash": "31f2aee4e71d21fbe5cf8b01ff0e069b9275f58929596ceb00d14d90e3e16cd6"
   }
  }
 },
 "nbformat": 4,
 "nbformat_minor": 2
}
