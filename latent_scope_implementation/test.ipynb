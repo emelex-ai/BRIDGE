{
 "cells": [
  {
   "cell_type": "code",
   "execution_count": 17,
   "metadata": {},
   "outputs": [
    {
     "name": "stdout",
     "output_type": "stream",
     "text": [
      "Name: h5py\n",
      "Version: 3.12.1\n",
      "Summary: Read and write HDF5 files from Python\n",
      "Home-page: \n",
      "Author: \n",
      "Author-email: Andrew Collette <andrew.collette@gmail.com>\n",
      "License: BSD-3-Clause\n",
      "Location: /opt/anaconda3/envs/BRIDGE/lib/python3.9/site-packages\n",
      "Requires: numpy\n",
      "Required-by: \n"
     ]
    }
   ],
   "source": [
    "!pip show h5py"
   ]
  },
  {
   "cell_type": "code",
   "execution_count": 14,
   "metadata": {},
   "outputs": [],
   "source": [
    "import pandas as pd\n",
    "import h5py\n",
    "import numpy as np\n",
    "\n",
    "class DSPrepper:\n",
    "\n",
    "    def __init__(self, dataset_path: str, output_path: str):\n",
    "        self.dataset_path = dataset_path\n",
    "        self.output_path = output_path\n",
    "        self.dataset = None\n",
    "\n",
    "    def load_and_process(self):\n",
    "        self.dataset = pd.read_csv(self.dataset_path)\n",
    "        self._transform_encodings()\n",
    "        self.dataset.to_csv(self.output_path)\n",
    "\n",
    "    def _transform_encodings(self):\n",
    "        def parse_encoding(x):\n",
    "            try:\n",
    "                return [float(value) for value in x.split(\":\")]\n",
    "            except ValueError:\n",
    "                return None\n",
    "        self.dataset[\"global_encoding\"] = self.dataset[\"global_encoding\"].apply(parse_encoding)\n",
    "        self.dataset.dropna(subset=[\"global_encoding\"], inplace=True)\n",
    "        self.dataset = self.dataset[[\"word_raw\", \"global_encoding\"]]\n",
    "\n",
    "    def convert_to_h5(self, h5_path: str):\n",
    "        embeddings = np.array(self.dataset[\"global_encoding\"].tolist(), dtype=np.float32)\n",
    "        with h5py.File(h5_path, \"w\") as hf:\n",
    "            hf.create_dataset(\"embeddings\", data=embeddings)\n"
   ]
  },
  {
   "cell_type": "code",
   "execution_count": 16,
   "metadata": {},
   "outputs": [],
   "source": [
    "prepper = DSPrepper(\n",
    "    \"/Users/giuliomartini/Desktop/FSU/BRIDGE/BRIDGE/models/giuliomartini_2024-10-24_14h15m37391ms_chkpt9999.csv\", \n",
    "    \"/Users/giuliomartini/Desktop/FSU/BRIDGE/changes/giuliomartini_2024-10-24_14h15m37391ms_chkpt9999_converted.csv\"\n",
    "    )\n",
    "prepper.load_and_process()\n",
    "prepper.convert_to_h5(\"/Users/giuliomartini/Desktop/FSU/BRIDGE/changes/giuliomartini_2024-10-24_14h15m37391ms_chkpt9999_converted.h5\")"
   ]
  }
 ],
 "metadata": {
  "kernelspec": {
   "display_name": "BRIDGE",
   "language": "python",
   "name": "python3"
  },
  "language_info": {
   "codemirror_mode": {
    "name": "ipython",
    "version": 3
   },
   "file_extension": ".py",
   "mimetype": "text/x-python",
   "name": "python",
   "nbconvert_exporter": "python",
   "pygments_lexer": "ipython3",
   "version": "3.9.18"
  }
 },
 "nbformat": 4,
 "nbformat_minor": 2
}
