{
 "cells": [
  {
   "attachments": {},
   "cell_type": "markdown",
   "metadata": {},
   "source": [
    "# Scratchpad for personal exploration"
   ]
  },
  {
   "cell_type": "code",
   "execution_count": 1,
   "metadata": {},
   "outputs": [],
   "source": [
    "%load_ext autoreload\n",
    "%autoreload 2"
   ]
  },
  {
   "cell_type": "code",
   "execution_count": 2,
   "metadata": {},
   "outputs": [
    {
     "name": "stderr",
     "output_type": "stream",
     "text": [
      "[nltk_data] Downloading package cmudict to\n",
      "[nltk_data]     /Users/erlebach/nltk_data...\n",
      "[nltk_data]   Package cmudict is already up-to-date!\n"
     ]
    }
   ],
   "source": [
    "from src.dataset import ConnTextULDataset\n",
    "from src.model import Model\n",
    "import torch as torch"
   ]
  },
  {
   "cell_type": "code",
   "execution_count": 3,
   "metadata": {},
   "outputs": [
    {
     "data": {
      "text/plain": [
       "(50, 1)"
      ]
     },
     "execution_count": 3,
     "metadata": {},
     "output_type": "execute_result"
    }
   ],
   "source": [
    "import pandas as pd\n",
    "df = pd.read_csv(\"data/data_test50.csv\")\n",
    "df.shape"
   ]
  },
  {
   "cell_type": "code",
   "execution_count": 4,
   "metadata": {},
   "outputs": [
    {
     "ename": "KeyError",
     "evalue": "\"None of [Int64Index([48508, 10326, 14046, 25414, 24923, 39616, 20705, 14472, 30073,\\n            27181, 42380, 31641, 45987, 13295,  9703, 48658, 38992, 29223,\\n            31962,  6268],\\n           dtype='int64')] are in the [index]\"",
     "output_type": "error",
     "traceback": [
      "\u001b[0;31m---------------------------------------------------------------------------\u001b[0m",
      "\u001b[0;31mKeyError\u001b[0m                                  Traceback (most recent call last)",
      "\u001b[1;32m/Users/erlebach/src/2023/ConnTextUL/scratchpad_GE.ipynb Cell 5\u001b[0m in \u001b[0;36m2\n\u001b[1;32m      <a href='vscode-notebook-cell:/Users/erlebach/src/2023/ConnTextUL/scratchpad_GE.ipynb#W3sZmlsZQ%3D%3D?line=0'>1</a>\u001b[0m \u001b[39mfor\u001b[39;00m size \u001b[39min\u001b[39;00m [\u001b[39m20\u001b[39m, \u001b[39m50\u001b[39m, \u001b[39m100\u001b[39m, \u001b[39m250\u001b[39m, \u001b[39m500\u001b[39m, \u001b[39m1000\u001b[39m]:\n\u001b[0;32m----> <a href='vscode-notebook-cell:/Users/erlebach/src/2023/ConnTextUL/scratchpad_GE.ipynb#W3sZmlsZQ%3D%3D?line=1'>2</a>\u001b[0m     new_df \u001b[39m=\u001b[39m df[\u001b[39m'\u001b[39;49m\u001b[39mword_raw\u001b[39;49m\u001b[39m'\u001b[39;49m][torch\u001b[39m.\u001b[39;49mrandint(low\u001b[39m=\u001b[39;49m\u001b[39m0\u001b[39;49m, high\u001b[39m=\u001b[39;49m\u001b[39m50000\u001b[39;49m, size\u001b[39m=\u001b[39;49m(size,))\u001b[39m.\u001b[39;49mtolist()]\n\u001b[1;32m      <a href='vscode-notebook-cell:/Users/erlebach/src/2023/ConnTextUL/scratchpad_GE.ipynb#W3sZmlsZQ%3D%3D?line=2'>3</a>\u001b[0m     new_df\u001b[39m.\u001b[39mto_csv(\u001b[39mf\u001b[39m\u001b[39m\"\u001b[39m\u001b[39mdata/data_test\u001b[39m\u001b[39m{\u001b[39;00msize\u001b[39m}\u001b[39;00m\u001b[39m.csv\u001b[39m\u001b[39m\"\u001b[39m, index\u001b[39m=\u001b[39m\u001b[39mFalse\u001b[39;00m)\n",
      "File \u001b[0;32m~/opt/anaconda3/envs/torch/lib/python3.8/site-packages/pandas/core/series.py:1008\u001b[0m, in \u001b[0;36mSeries.__getitem__\u001b[0;34m(self, key)\u001b[0m\n\u001b[1;32m   1005\u001b[0m     key \u001b[39m=\u001b[39m np\u001b[39m.\u001b[39masarray(key, dtype\u001b[39m=\u001b[39m\u001b[39mbool\u001b[39m)\n\u001b[1;32m   1006\u001b[0m     \u001b[39mreturn\u001b[39;00m \u001b[39mself\u001b[39m\u001b[39m.\u001b[39m_get_values(key)\n\u001b[0;32m-> 1008\u001b[0m \u001b[39mreturn\u001b[39;00m \u001b[39mself\u001b[39;49m\u001b[39m.\u001b[39;49m_get_with(key)\n",
      "File \u001b[0;32m~/opt/anaconda3/envs/torch/lib/python3.8/site-packages/pandas/core/series.py:1043\u001b[0m, in \u001b[0;36mSeries._get_with\u001b[0;34m(self, key)\u001b[0m\n\u001b[1;32m   1039\u001b[0m \u001b[39mif\u001b[39;00m key_type \u001b[39m==\u001b[39m \u001b[39m\"\u001b[39m\u001b[39minteger\u001b[39m\u001b[39m\"\u001b[39m:\n\u001b[1;32m   1040\u001b[0m     \u001b[39m# We need to decide whether to treat this as a positional indexer\u001b[39;00m\n\u001b[1;32m   1041\u001b[0m     \u001b[39m#  (i.e. self.iloc) or label-based (i.e. self.loc)\u001b[39;00m\n\u001b[1;32m   1042\u001b[0m     \u001b[39mif\u001b[39;00m \u001b[39mnot\u001b[39;00m \u001b[39mself\u001b[39m\u001b[39m.\u001b[39mindex\u001b[39m.\u001b[39m_should_fallback_to_positional:\n\u001b[0;32m-> 1043\u001b[0m         \u001b[39mreturn\u001b[39;00m \u001b[39mself\u001b[39;49m\u001b[39m.\u001b[39;49mloc[key]\n\u001b[1;32m   1044\u001b[0m     \u001b[39melse\u001b[39;00m:\n\u001b[1;32m   1045\u001b[0m         \u001b[39mreturn\u001b[39;00m \u001b[39mself\u001b[39m\u001b[39m.\u001b[39miloc[key]\n",
      "File \u001b[0;32m~/opt/anaconda3/envs/torch/lib/python3.8/site-packages/pandas/core/indexing.py:1074\u001b[0m, in \u001b[0;36m_LocationIndexer.__getitem__\u001b[0;34m(self, key)\u001b[0m\n\u001b[1;32m   1071\u001b[0m axis \u001b[39m=\u001b[39m \u001b[39mself\u001b[39m\u001b[39m.\u001b[39maxis \u001b[39mor\u001b[39;00m \u001b[39m0\u001b[39m\n\u001b[1;32m   1073\u001b[0m maybe_callable \u001b[39m=\u001b[39m com\u001b[39m.\u001b[39mapply_if_callable(key, \u001b[39mself\u001b[39m\u001b[39m.\u001b[39mobj)\n\u001b[0;32m-> 1074\u001b[0m \u001b[39mreturn\u001b[39;00m \u001b[39mself\u001b[39;49m\u001b[39m.\u001b[39;49m_getitem_axis(maybe_callable, axis\u001b[39m=\u001b[39;49maxis)\n",
      "File \u001b[0;32m~/opt/anaconda3/envs/torch/lib/python3.8/site-packages/pandas/core/indexing.py:1302\u001b[0m, in \u001b[0;36m_LocIndexer._getitem_axis\u001b[0;34m(self, key, axis)\u001b[0m\n\u001b[1;32m   1299\u001b[0m     \u001b[39mif\u001b[39;00m \u001b[39mhasattr\u001b[39m(key, \u001b[39m\"\u001b[39m\u001b[39mndim\u001b[39m\u001b[39m\"\u001b[39m) \u001b[39mand\u001b[39;00m key\u001b[39m.\u001b[39mndim \u001b[39m>\u001b[39m \u001b[39m1\u001b[39m:\n\u001b[1;32m   1300\u001b[0m         \u001b[39mraise\u001b[39;00m \u001b[39mValueError\u001b[39;00m(\u001b[39m\"\u001b[39m\u001b[39mCannot index with multidimensional key\u001b[39m\u001b[39m\"\u001b[39m)\n\u001b[0;32m-> 1302\u001b[0m     \u001b[39mreturn\u001b[39;00m \u001b[39mself\u001b[39;49m\u001b[39m.\u001b[39;49m_getitem_iterable(key, axis\u001b[39m=\u001b[39;49maxis)\n\u001b[1;32m   1304\u001b[0m \u001b[39m# nested tuple slicing\u001b[39;00m\n\u001b[1;32m   1305\u001b[0m \u001b[39mif\u001b[39;00m is_nested_tuple(key, labels):\n",
      "File \u001b[0;32m~/opt/anaconda3/envs/torch/lib/python3.8/site-packages/pandas/core/indexing.py:1240\u001b[0m, in \u001b[0;36m_LocIndexer._getitem_iterable\u001b[0;34m(self, key, axis)\u001b[0m\n\u001b[1;32m   1237\u001b[0m \u001b[39mself\u001b[39m\u001b[39m.\u001b[39m_validate_key(key, axis)\n\u001b[1;32m   1239\u001b[0m \u001b[39m# A collection of keys\u001b[39;00m\n\u001b[0;32m-> 1240\u001b[0m keyarr, indexer \u001b[39m=\u001b[39m \u001b[39mself\u001b[39;49m\u001b[39m.\u001b[39;49m_get_listlike_indexer(key, axis)\n\u001b[1;32m   1241\u001b[0m \u001b[39mreturn\u001b[39;00m \u001b[39mself\u001b[39m\u001b[39m.\u001b[39mobj\u001b[39m.\u001b[39m_reindex_with_indexers(\n\u001b[1;32m   1242\u001b[0m     {axis: [keyarr, indexer]}, copy\u001b[39m=\u001b[39m\u001b[39mTrue\u001b[39;00m, allow_dups\u001b[39m=\u001b[39m\u001b[39mTrue\u001b[39;00m\n\u001b[1;32m   1243\u001b[0m )\n",
      "File \u001b[0;32m~/opt/anaconda3/envs/torch/lib/python3.8/site-packages/pandas/core/indexing.py:1433\u001b[0m, in \u001b[0;36m_LocIndexer._get_listlike_indexer\u001b[0;34m(self, key, axis)\u001b[0m\n\u001b[1;32m   1430\u001b[0m ax \u001b[39m=\u001b[39m \u001b[39mself\u001b[39m\u001b[39m.\u001b[39mobj\u001b[39m.\u001b[39m_get_axis(axis)\n\u001b[1;32m   1431\u001b[0m axis_name \u001b[39m=\u001b[39m \u001b[39mself\u001b[39m\u001b[39m.\u001b[39mobj\u001b[39m.\u001b[39m_get_axis_name(axis)\n\u001b[0;32m-> 1433\u001b[0m keyarr, indexer \u001b[39m=\u001b[39m ax\u001b[39m.\u001b[39;49m_get_indexer_strict(key, axis_name)\n\u001b[1;32m   1435\u001b[0m \u001b[39mreturn\u001b[39;00m keyarr, indexer\n",
      "File \u001b[0;32m~/opt/anaconda3/envs/torch/lib/python3.8/site-packages/pandas/core/indexes/base.py:6108\u001b[0m, in \u001b[0;36mIndex._get_indexer_strict\u001b[0;34m(self, key, axis_name)\u001b[0m\n\u001b[1;32m   6105\u001b[0m \u001b[39melse\u001b[39;00m:\n\u001b[1;32m   6106\u001b[0m     keyarr, indexer, new_indexer \u001b[39m=\u001b[39m \u001b[39mself\u001b[39m\u001b[39m.\u001b[39m_reindex_non_unique(keyarr)\n\u001b[0;32m-> 6108\u001b[0m \u001b[39mself\u001b[39;49m\u001b[39m.\u001b[39;49m_raise_if_missing(keyarr, indexer, axis_name)\n\u001b[1;32m   6110\u001b[0m keyarr \u001b[39m=\u001b[39m \u001b[39mself\u001b[39m\u001b[39m.\u001b[39mtake(indexer)\n\u001b[1;32m   6111\u001b[0m \u001b[39mif\u001b[39;00m \u001b[39misinstance\u001b[39m(key, Index):\n\u001b[1;32m   6112\u001b[0m     \u001b[39m# GH 42790 - Preserve name from an Index\u001b[39;00m\n",
      "File \u001b[0;32m~/opt/anaconda3/envs/torch/lib/python3.8/site-packages/pandas/core/indexes/base.py:6168\u001b[0m, in \u001b[0;36mIndex._raise_if_missing\u001b[0;34m(self, key, indexer, axis_name)\u001b[0m\n\u001b[1;32m   6166\u001b[0m     \u001b[39mif\u001b[39;00m use_interval_msg:\n\u001b[1;32m   6167\u001b[0m         key \u001b[39m=\u001b[39m \u001b[39mlist\u001b[39m(key)\n\u001b[0;32m-> 6168\u001b[0m     \u001b[39mraise\u001b[39;00m \u001b[39mKeyError\u001b[39;00m(\u001b[39mf\u001b[39m\u001b[39m\"\u001b[39m\u001b[39mNone of [\u001b[39m\u001b[39m{\u001b[39;00mkey\u001b[39m}\u001b[39;00m\u001b[39m] are in the [\u001b[39m\u001b[39m{\u001b[39;00maxis_name\u001b[39m}\u001b[39;00m\u001b[39m]\u001b[39m\u001b[39m\"\u001b[39m)\n\u001b[1;32m   6170\u001b[0m not_found \u001b[39m=\u001b[39m \u001b[39mlist\u001b[39m(ensure_index(key)[missing_mask\u001b[39m.\u001b[39mnonzero()[\u001b[39m0\u001b[39m]]\u001b[39m.\u001b[39munique())\n\u001b[1;32m   6171\u001b[0m \u001b[39mraise\u001b[39;00m \u001b[39mKeyError\u001b[39;00m(\u001b[39mf\u001b[39m\u001b[39m\"\u001b[39m\u001b[39m{\u001b[39;00mnot_found\u001b[39m}\u001b[39;00m\u001b[39m not in index\u001b[39m\u001b[39m\"\u001b[39m)\n",
      "\u001b[0;31mKeyError\u001b[0m: \"None of [Int64Index([48508, 10326, 14046, 25414, 24923, 39616, 20705, 14472, 30073,\\n            27181, 42380, 31641, 45987, 13295,  9703, 48658, 38992, 29223,\\n            31962,  6268],\\n           dtype='int64')] are in the [index]\""
     ]
    }
   ],
   "source": [
    "for size in [20, 50, 100, 250, 500, 1000]:\n",
    "    new_df = df['word_raw'][torch.randint(low=0, high=50000, size=(size,)).tolist()]\n",
    "    new_df.to_csv(f\"data/data_test{size}.csv\", index=False)"
   ]
  },
  {
   "cell_type": "code",
   "execution_count": 4,
   "metadata": {},
   "outputs": [
    {
     "ename": "NameError",
     "evalue": "name 'new_df' is not defined",
     "output_type": "error",
     "traceback": [
      "\u001b[0;31m---------------------------------------------------------------------------\u001b[0m",
      "\u001b[0;31mNameError\u001b[0m                                 Traceback (most recent call last)",
      "\u001b[1;32m/Users/erlebach/src/2023/ConnTextUL/scratchpad_GE.ipynb Cell 6\u001b[0m in \u001b[0;36m1\n\u001b[0;32m----> <a href='vscode-notebook-cell:/Users/erlebach/src/2023/ConnTextUL/scratchpad_GE.ipynb#W5sZmlsZQ%3D%3D?line=0'>1</a>\u001b[0m new_df\u001b[39m.\u001b[39mto_csv(\u001b[39m\"\u001b[39m\u001b[39mdata/data_test.csv\u001b[39m\u001b[39m\"\u001b[39m, index\u001b[39m=\u001b[39m\u001b[39mFalse\u001b[39;00m)\n",
      "\u001b[0;31mNameError\u001b[0m: name 'new_df' is not defined"
     ]
    }
   ],
   "source": [
    "new_df.to_csv(\"data/data_test.csv\", index=False)"
   ]
  },
  {
   "cell_type": "code",
   "execution_count": 14,
   "metadata": {},
   "outputs": [
    {
     "name": "stdout",
     "output_type": "stream",
     "text": [
      "ConnText..., nb_rows:  None\n",
      "ConnText..., which_dataset:  5\n",
      "CURRENT FOLDER:  /Users/erlebach/src/2023/ConnTextUL\n",
      "len(self.dataset):  (90544, 7)\n",
      "orth position embedding: max_orth_seq_len:  11\n",
      "orth_vocab_size:  49\n",
      "phon_vocab_size:  34\n",
      "d_model:  64\n",
      "ds.dataset.shape:  (90544, 7)\n"
     ]
    }
   ],
   "source": [
    "\"\"\"\n",
    "ConnTextULDataset should have option to read less rows\n",
    "should test: nb_rows, test, which_dataset\n",
    "Test == True: \n",
    "  - Use which_data (nb_rows should be disabled)\n",
    "Test == False\n",
    "  - Randomly sample nb_rows. If nb_rows==None, read the entire dataset\n",
    "\n",
    "Suggestion: add a shuffle=Bool to CnnTextULDataset constructor when test=False\n",
    "\n",
    "Comment: vocabularies of orthography and phonology are independent of the input data size. Somehow,\n",
    "I don't think that should be the case. It could mess up testing. \n",
    "\"\"\"\n",
    "\n",
    "ds = ConnTextULDataset(nb_rows=None, test=False, which_dataset=5)\n",
    "num_layers = 2\n",
    "num_layers_dict={\n",
    "    'orth_enc': num_layers,\n",
    "    'orth_dec': num_layers,\n",
    "    'phon_enc': num_layers,\n",
    "    'phon_dec': num_layers,\n",
    "    'mixing_enc': num_layers\n",
    "}\n",
    "d_model = 64\n",
    "m = Model(orth_vocab_size=len(ds.character_tokenizer),\n",
    "          phon_vocab_size=len(ds.phonology_tokenizer),\n",
    "          d_model=d_model,\n",
    "          d_embedding=1,  # for mixing\n",
    "          max_orth_seq_len=ds.max_orth_seq_len,\n",
    "          max_phon_seq_len=ds.max_phon_seq_len,\n",
    "          nhead=4,\n",
    "          num_layers_dict=num_layers_dict\n",
    "          )\n",
    "m.eval();  # returns self (i.e., m)\n",
    "orth_vocab_size = len(ds.character_tokenizer)\n",
    "phon_vocab_size = len(ds.phonology_tokenizer)\n",
    "print(\"orth_vocab_size: \", orth_vocab_size)\n",
    "print(\"phon_vocab_size: \", phon_vocab_size)\n",
    "print(\"d_model: \", d_model)\n",
    "print(\"ds.dataset.shape: \", ds.dataset.shape)"
   ]
  },
  {
   "cell_type": "code",
   "execution_count": 15,
   "metadata": {},
   "outputs": [
    {
     "name": "stdout",
     "output_type": "stream",
     "text": [
      "['dataset', 'phonology_tokenizer', 'character_tokenizer', 'max_orth_seq_len', 'max_phon_seq_len', 'max_seq_len', 'words']\n",
      "(90544, 7)\n"
     ]
    }
   ],
   "source": [
    "print(list(ds.__dict__.keys()))\n",
    "print(ds.dataset.shape)"
   ]
  },
  {
   "cell_type": "code",
   "execution_count": 16,
   "metadata": {},
   "outputs": [
    {
     "name": "stdout",
     "output_type": "stream",
     "text": [
      "words =  ['as', 'she', 'and', 'you', 'was']\n",
      "orth['enc_input_ids'] =  torch.Size([5, 5]) tensor([[ 0, 11, 29,  1,  4],\n",
      "        [ 0, 29, 18, 15,  1],\n",
      "        [ 0, 11, 24, 14,  1],\n",
      "        [ 0, 35, 25, 31,  1],\n",
      "        [ 0, 33, 11, 29,  1]])\n",
      "orth['enc_pad_mask'] =  torch.Size([5, 5]) tensor([[False, False, False, False,  True],\n",
      "        [False, False, False, False, False],\n",
      "        [False, False, False, False, False],\n",
      "        [False, False, False, False, False],\n",
      "        [False, False, False, False, False]])\n",
      "orth['dec_input_ids'] =  torch.Size([5, 4]) tensor([[ 0, 11, 29,  4],\n",
      "        [ 0, 29, 18, 15],\n",
      "        [ 0, 11, 24, 14],\n",
      "        [ 0, 35, 25, 31],\n",
      "        [ 0, 33, 11, 29]])\n",
      "orth['dec_pad_mask'] =  torch.Size([5, 4]) tensor([[False, False, False,  True],\n",
      "        [False, False, False, False],\n",
      "        [False, False, False, False],\n",
      "        [False, False, False, False],\n",
      "        [False, False, False, False]])\n",
      "==> phon['enc_input_ids'] =  5\n",
      "     [tensor([31]), tensor([14, 15, 17, 22, 29]), tensor([ 2,  7, 14]), tensor([32]), tensor([33])]\n",
      "     [tensor([31]), tensor([3, 7]), tensor([14, 15, 18, 24, 29]), tensor([32]), tensor([33])]\n",
      "     [tensor([31]), tensor([14, 16, 21]), tensor([ 2,  9, 14]), tensor([ 2,  6, 14]), tensor([32])]\n",
      "     [tensor([31]), tensor([ 3, 11, 14]), tensor([14, 17, 18, 24, 26, 29]), tensor([32]), tensor([33])]\n",
      "     [tensor([31]), tensor([ 0, 11]), tensor([14, 17, 23, 29]), tensor([ 2,  7, 14]), tensor([32])]\n",
      "phon['enc_pad_mask'] =  torch.Size([5, 5]) tensor([[False, False, False, False,  True],\n",
      "        [False, False, False, False,  True],\n",
      "        [False, False, False, False, False],\n",
      "        [False, False, False, False,  True],\n",
      "        [False, False, False, False, False]])\n",
      "==> phon['dec_input_ids'] =  5\n",
      "      [tensor([31]), tensor([14, 15, 17, 22, 29]), tensor([ 2,  7, 14]), tensor([33])]\n",
      "      [tensor([31]), tensor([3, 7]), tensor([14, 15, 18, 24, 29]), tensor([33])]\n",
      "      [tensor([31]), tensor([14, 16, 21]), tensor([ 2,  9, 14]), tensor([ 2,  6, 14])]\n",
      "      [tensor([31]), tensor([ 3, 11, 14]), tensor([14, 17, 18, 24, 26, 29]), tensor([33])]\n",
      "      [tensor([31]), tensor([ 0, 11]), tensor([14, 17, 23, 29]), tensor([ 2,  7, 14])]\n",
      "==> phon['dec_input_ids'] =  5\n",
      "phon['dec_pad_mask'] =  torch.Size([5, 4]) tensor([[False, False, False,  True],\n",
      "        [False, False, False,  True],\n",
      "        [False, False, False, False],\n",
      "        [False, False, False,  True],\n",
      "        [False, False, False, False]])\n",
      "phon['targets'] =  torch.Size([5, 4, 33]) tensor([[[0, 0, 0, 0, 0, 0, 0, 0, 0, 0, 0, 0, 0, 0, 1, 1, 0, 1, 0, 0, 0, 0, 1,\n",
      "          0, 0, 0, 0, 0, 0, 1, 0, 0, 0],\n",
      "         [0, 0, 1, 0, 0, 0, 0, 1, 0, 0, 0, 0, 0, 0, 1, 0, 0, 0, 0, 0, 0, 0, 0,\n",
      "          0, 0, 0, 0, 0, 0, 0, 0, 0, 0],\n",
      "         [0, 0, 0, 0, 0, 0, 0, 0, 0, 0, 0, 0, 0, 0, 0, 0, 0, 0, 0, 0, 0, 0, 0,\n",
      "          0, 0, 0, 0, 0, 0, 0, 0, 0, 1],\n",
      "         [2, 2, 2, 2, 2, 2, 2, 2, 2, 2, 2, 2, 2, 2, 2, 2, 2, 2, 2, 2, 2, 2, 2,\n",
      "          2, 2, 2, 2, 2, 2, 2, 2, 2, 2]],\n",
      "\n",
      "        [[0, 0, 0, 1, 0, 0, 0, 1, 0, 0, 0, 0, 0, 0, 0, 0, 0, 0, 0, 0, 0, 0, 0,\n",
      "          0, 0, 0, 0, 0, 0, 0, 0, 0, 0],\n",
      "         [0, 0, 0, 0, 0, 0, 0, 0, 0, 0, 0, 0, 0, 0, 1, 1, 0, 0, 1, 0, 0, 0, 0,\n",
      "          0, 1, 0, 0, 0, 0, 1, 0, 0, 0],\n",
      "         [0, 0, 0, 0, 0, 0, 0, 0, 0, 0, 0, 0, 0, 0, 0, 0, 0, 0, 0, 0, 0, 0, 0,\n",
      "          0, 0, 0, 0, 0, 0, 0, 0, 0, 1],\n",
      "         [2, 2, 2, 2, 2, 2, 2, 2, 2, 2, 2, 2, 2, 2, 2, 2, 2, 2, 2, 2, 2, 2, 2,\n",
      "          2, 2, 2, 2, 2, 2, 2, 2, 2, 2]],\n",
      "\n",
      "        [[0, 0, 0, 0, 0, 0, 0, 0, 0, 0, 0, 0, 0, 0, 1, 0, 1, 0, 0, 0, 0, 1, 0,\n",
      "          0, 0, 0, 0, 0, 0, 0, 0, 0, 0],\n",
      "         [0, 0, 1, 0, 0, 0, 0, 0, 0, 1, 0, 0, 0, 0, 1, 0, 0, 0, 0, 0, 0, 0, 0,\n",
      "          0, 0, 0, 0, 0, 0, 0, 0, 0, 0],\n",
      "         [0, 0, 1, 0, 0, 0, 1, 0, 0, 0, 0, 0, 0, 0, 1, 0, 0, 0, 0, 0, 0, 0, 0,\n",
      "          0, 0, 0, 0, 0, 0, 0, 0, 0, 0],\n",
      "         [0, 0, 0, 0, 0, 0, 0, 0, 0, 0, 0, 0, 0, 0, 0, 0, 0, 0, 0, 0, 0, 0, 0,\n",
      "          0, 0, 0, 0, 0, 0, 0, 0, 0, 1]],\n",
      "\n",
      "        [[0, 0, 0, 1, 0, 0, 0, 0, 0, 0, 0, 1, 0, 0, 1, 0, 0, 0, 0, 0, 0, 0, 0,\n",
      "          0, 0, 0, 0, 0, 0, 0, 0, 0, 0],\n",
      "         [0, 0, 0, 0, 0, 0, 0, 0, 0, 0, 0, 0, 0, 0, 1, 0, 0, 1, 1, 0, 0, 0, 0,\n",
      "          0, 1, 0, 1, 0, 0, 1, 0, 0, 0],\n",
      "         [0, 0, 0, 0, 0, 0, 0, 0, 0, 0, 0, 0, 0, 0, 0, 0, 0, 0, 0, 0, 0, 0, 0,\n",
      "          0, 0, 0, 0, 0, 0, 0, 0, 0, 1],\n",
      "         [2, 2, 2, 2, 2, 2, 2, 2, 2, 2, 2, 2, 2, 2, 2, 2, 2, 2, 2, 2, 2, 2, 2,\n",
      "          2, 2, 2, 2, 2, 2, 2, 2, 2, 2]],\n",
      "\n",
      "        [[1, 0, 0, 0, 0, 0, 0, 0, 0, 0, 0, 1, 0, 0, 0, 0, 0, 0, 0, 0, 0, 0, 0,\n",
      "          0, 0, 0, 0, 0, 0, 0, 0, 0, 0],\n",
      "         [0, 0, 0, 0, 0, 0, 0, 0, 0, 0, 0, 0, 0, 0, 1, 0, 0, 1, 0, 0, 0, 0, 0,\n",
      "          1, 0, 0, 0, 0, 0, 1, 0, 0, 0],\n",
      "         [0, 0, 1, 0, 0, 0, 0, 1, 0, 0, 0, 0, 0, 0, 1, 0, 0, 0, 0, 0, 0, 0, 0,\n",
      "          0, 0, 0, 0, 0, 0, 0, 0, 0, 0],\n",
      "         [0, 0, 0, 0, 0, 0, 0, 0, 0, 0, 0, 0, 0, 0, 0, 0, 0, 0, 0, 0, 0, 0, 0,\n",
      "          0, 0, 0, 0, 0, 0, 0, 0, 0, 1]]])\n"
     ]
    }
   ],
   "source": [
    "# self.vocab = ['[BOS]', '[EOS]', '[CLS]', '[UNK]', '[PAD]']\n",
    "# Ortho ids\n",
    "#      BOS: 0\n",
    "#      EOS: 1\n",
    "#      CLS: 2\n",
    "#      UNK: 3\n",
    "#      PAD: 4\n",
    "# Phono Ids\n",
    "#    BOS: 31  (0 0 0 0 ... 1 0 0)   (a 1 in 31st position)\n",
    "#    EOS: 32  (0 0 0 0 ... 0 1 0)\n",
    "#    PAD: 33  (0 0 0 0 ... 0 0 1)\n",
    "\n",
    "idx = 10040  # What is idx?phon['enc_input_ids'].shape, \n",
    "idx = 10031\n",
    "num_words = 5   # batch_size\n",
    "word = ds.words[idx:idx+num_words]\n",
    "print(\"words = \", word)\n",
    "batch = ds[idx:idx+num_words]\n",
    "#print(\"batch = \", batch)\n",
    "orth, phon = batch['orthography'].to('cpu'), batch['phonology'].to('cpu')\n",
    "# orth and phon are dicitonaries\n",
    "# ids represent either a character or a phoneme\n",
    "# Each word: 0,x,x,x,1,4  (padding is optional. 0 and 1 are mandatory)\n",
    "print(\"orth['enc_input_ids'] = \", orth['enc_input_ids'].shape, orth['enc_input_ids'])  # batch_size, max_orth_size\n",
    "print(\"orth['enc_pad_mask'] = \", orth['enc_pad_mask'].shape, orth['enc_pad_mask'])\n",
    "# Each word: 0,x,x,x,4  (padding is optional. 0 is  mandatory) No EoS on decoder input. Why? \n",
    "# Only input into the decoder a character if the next character will be predicted. \n",
    "# Since one does not predict the character folling EoS, it does not have to be in the decoder input\n",
    "print(\"orth['dec_input_ids'] = \", orth['dec_input_ids'].shape, orth['dec_input_ids'])\n",
    "print(\"orth['dec_pad_mask'] = \", orth['dec_pad_mask'].shape, orth['dec_pad_mask'])\n",
    "#print(\"phon['enc_input_ids'] = \", phon['enc_input_ids'].shape, phon['enc_input_ids'])\n",
    "# phon: no \"bOS and EOS\" tokens. Why not? \n",
    "print(\"==> phon['enc_input_ids'] = \", len(phon['enc_input_ids']))\n",
    "# Each phono is a list of integers: e.g. [3,5] corresponds to [0 0 0 1 0 1 0 0 0 0 ... 0 0 ]\n",
    "#                                   e.g. [0,3,5] corresponds to [1 0 0 1 0 1 0 0 0 0 ... 0 0 ]\n",
    "for  i in phon['enc_input_ids']:\n",
    "    print(\"    \", i)\n",
    "\n",
    "print(\"phon['enc_pad_mask'] = \", phon['enc_pad_mask'].shape, phon['enc_pad_mask'])\n",
    "#print(\"phon['dec_input_ids'] = \", phon['dec_input_ids'].shape, phon['dec_input_ids'])\n",
    "print(\"==> phon['dec_input_ids'] = \", len(phon['dec_input_ids']))\n",
    "for i in phon['dec_input_ids']:\n",
    "    print(\"     \", i)\n",
    "print(\"==> phon['dec_input_ids'] = \", len(phon['dec_input_ids']))\n",
    "print(\"phon['dec_pad_mask'] = \", phon['dec_pad_mask'].shape, phon['dec_pad_mask'])\n",
    "print(\"phon['targets'] = \", phon['targets'].shape, phon['targets'])"
   ]
  },
  {
   "cell_type": "code",
   "execution_count": 32,
   "metadata": {},
   "outputs": [],
   "source": [
    "z = m(orth_enc_input=orth['enc_input_ids'],\n",
    "      orth_enc_pad_mask=orth['enc_pad_mask'],\n",
    "      orth_dec_input=orth['dec_input_ids'],\n",
    "      orth_dec_pad_mask=orth['dec_pad_mask'],\n",
    "      phon_enc_input=phon['enc_input_ids'],\n",
    "      phon_enc_pad_mask=phon['enc_pad_mask'],\n",
    "      phon_dec_input=phon['dec_input_ids'],\n",
    "      phon_dec_pad_mask=phon['dec_pad_mask']\n",
    "      )"
   ]
  },
  {
   "cell_type": "code",
   "execution_count": 34,
   "metadata": {},
   "outputs": [
    {
     "name": "stdout",
     "output_type": "stream",
     "text": [
      "torch.Size([5, 5])\n",
      "torch.Size([5, 4])\n"
     ]
    }
   ],
   "source": [
    "print(orth['enc_input_ids'].shape)\n",
    "print(orth['enc_input_ids'][:,1:].shape)"
   ]
  },
  {
   "cell_type": "code",
   "execution_count": 24,
   "metadata": {},
   "outputs": [
    {
     "name": "stdout",
     "output_type": "stream",
     "text": [
      "z['orth'].shape torch.Size([5, 49, 4])\n",
      "z['orth'] =  tensor([[[ 7.3423e-02, -1.0104e+00, -3.1988e-01,  7.0081e-01],\n",
      "         [ 4.1294e-01,  3.6833e-01, -6.0337e-01, -3.9756e-01],\n",
      "         [ 3.6940e-01, -1.5503e-01, -2.0064e-01,  1.6927e-01],\n",
      "         [-1.7370e-01,  7.4545e-01, -8.2421e-01,  8.4368e-01],\n",
      "         [-3.6050e-01,  1.7056e-01,  1.8763e-02,  1.3118e-01],\n",
      "         [ 5.2281e-01, -1.2056e-01, -3.8111e-01,  6.4269e-01],\n",
      "         [-7.5891e-02, -6.5556e-01,  3.3835e-01,  2.7948e-01],\n",
      "         [ 3.3343e-01,  6.4739e-01, -4.3987e-02,  8.8123e-01],\n",
      "         [-1.2045e-01,  4.6238e-01, -2.0916e-01,  4.6143e-01],\n",
      "         [-7.5457e-01, -8.2014e-01, -3.7641e-01, -2.2010e-01],\n",
      "         [-8.2575e-01, -2.7183e-01, -1.2778e+00, -8.1094e-02],\n",
      "         [-6.3467e-01, -6.0269e-01, -1.9329e-01, -6.3944e-02],\n",
      "         [ 2.7073e-01,  1.1343e-01,  2.8926e-01,  3.7735e-01],\n",
      "         [-5.2974e-01, -7.2577e-01,  5.2034e-01,  5.1274e-01],\n",
      "         [ 9.5947e-01,  1.1378e+00, -3.5516e-01,  7.6983e-01],\n",
      "         [-6.1166e-01, -5.3242e-01, -1.0752e+00, -1.0082e-02],\n",
      "         [ 1.2007e+00,  1.2859e+00,  2.4220e-01,  5.2972e-01],\n",
      "         [ 5.2885e-01,  7.7439e-01,  2.3056e-01,  1.8885e-01],\n",
      "         [ 1.0374e-01,  2.3575e-01,  3.7994e-01,  4.9948e-01],\n",
      "         [ 1.3088e-01,  6.0066e-02, -3.9585e-01, -3.8296e-01],\n",
      "         [-7.4261e-02, -3.7327e-01,  7.8607e-01,  3.1948e-01],\n",
      "         [ 9.2143e-01,  5.9525e-01,  2.8248e-01,  2.4206e-01],\n",
      "         [-1.6981e-01, -1.1245e-01,  4.2258e-01,  4.0599e-01],\n",
      "         [ 8.5610e-01,  1.9372e-03,  7.3892e-01, -2.0039e-02],\n",
      "         [-4.0020e-01,  6.4290e-01, -4.8262e-01,  6.5888e-02],\n",
      "         [ 4.0955e-01, -7.2479e-02, -7.1619e-02, -1.9174e-01],\n",
      "         [ 7.4337e-01,  7.1437e-01,  2.2274e-01,  9.1153e-01],\n",
      "         [-4.7666e-01, -6.7084e-01,  6.2458e-01,  9.5611e-01],\n",
      "         [-5.9415e-01, -3.8364e-01, -3.4728e-01, -2.7865e-01],\n",
      "         [-1.5327e+00, -1.3808e+00, -7.5315e-01, -1.1135e+00],\n",
      "         [ 5.3566e-01,  1.1818e+00, -4.6735e-01, -3.4331e-01],\n",
      "         [ 6.0641e-01,  1.7254e-01,  3.4542e-01,  9.3179e-01],\n",
      "         [-4.4415e-01, -1.2930e+00, -5.0481e-01, -1.2247e+00],\n",
      "         [-9.2471e-01,  8.7254e-01, -9.8902e-01, -1.3453e-01],\n",
      "         [-1.5947e-01, -2.6423e-01, -4.3664e-01,  8.3894e-02],\n",
      "         [-9.4667e-01, -1.0953e+00, -2.7860e-01, -8.3500e-01],\n",
      "         [ 6.6079e-01, -7.1588e-02,  2.9997e-01,  2.5682e-02],\n",
      "         [-8.4298e-02,  6.4621e-01,  6.6540e-01,  4.5389e-01],\n",
      "         [ 1.0338e+00,  1.1625e+00,  1.2601e+00,  1.8700e+00],\n",
      "         [-1.0723e-01,  2.1614e-01,  3.0024e-01,  6.6212e-02],\n",
      "         [-6.5065e-03,  5.7871e-01,  2.8011e-02,  3.1297e-01],\n",
      "         [ 5.5857e-01,  1.1550e-01, -1.7402e-01,  7.6303e-01],\n",
      "         [ 6.9190e-01,  7.3288e-01,  1.1790e+00,  2.0376e-01],\n",
      "         [ 7.2876e-01,  5.9351e-01,  1.6674e+00,  1.0518e+00],\n",
      "         [ 1.2272e-01,  3.7780e-01,  8.2641e-01,  6.4660e-01],\n",
      "         [ 7.2510e-01, -1.8509e-01, -1.9123e-01, -1.8484e-01],\n",
      "         [ 6.4632e-02,  8.8492e-01, -3.2153e-01, -8.6960e-02],\n",
      "         [-4.5059e-01,  1.0573e+00, -2.2809e-01,  1.8643e-01],\n",
      "         [ 3.0920e-01,  3.2744e-01,  2.4813e-01,  2.0561e-01]],\n",
      "\n",
      "        [[ 1.2554e-01, -5.3261e-01,  4.3255e-01,  1.1612e+00],\n",
      "         [ 4.9305e-01, -7.3163e-01, -1.5360e-01, -5.6708e-01],\n",
      "         [ 3.3086e-01,  1.5544e-02, -1.0860e+00, -3.1860e-02],\n",
      "         [-3.7272e-01, -1.0694e-01, -3.5492e-01,  5.9877e-01],\n",
      "         [-4.3662e-01, -1.3733e-01, -2.8346e-01,  2.0926e-01],\n",
      "         [ 5.7860e-01, -3.8459e-01,  6.4844e-01,  6.7709e-01],\n",
      "         [-8.3832e-02, -6.4677e-01, -6.7373e-01,  1.1269e+00],\n",
      "         [ 2.1605e-01, -1.3299e-01, -4.6814e-01,  3.6650e-01],\n",
      "         [-1.5552e-01,  3.2956e-01, -4.6906e-01, -3.5345e-01],\n",
      "         [-7.7408e-01, -6.9150e-01, -6.1440e-01, -2.1507e-01],\n",
      "         [-9.1181e-01, -8.1560e-01, -1.6115e+00, -3.4008e-01],\n",
      "         [-5.6027e-01,  6.4908e-02,  2.9257e-01,  4.0529e-02],\n",
      "         [ 1.7689e-01,  1.4411e-01,  4.3795e-01,  4.0824e-01],\n",
      "         [-6.0369e-01, -3.8501e-01,  6.4071e-01,  5.4805e-01],\n",
      "         [ 7.9793e-01,  3.6705e-01,  9.6363e-03,  6.0552e-02],\n",
      "         [-6.5906e-01, -1.2819e-01, -5.0074e-01, -1.9204e-01],\n",
      "         [ 1.0378e+00,  8.0187e-01, -3.7490e-01,  1.5963e-01],\n",
      "         [ 6.5175e-01,  3.3474e-01,  5.4824e-01,  3.4492e-01],\n",
      "         [ 1.5348e-01, -7.0116e-03,  9.5933e-01,  1.0206e+00],\n",
      "         [ 5.5704e-02, -6.6662e-01, -2.5291e-01, -2.9013e-01],\n",
      "         [-1.7839e-01,  3.9651e-01, -1.1558e-01, -2.1028e-02],\n",
      "         [ 8.9418e-01,  2.2375e-01, -6.2494e-01, -5.5977e-01],\n",
      "         [-1.6143e-01,  3.1547e-01,  1.9965e-01,  4.7375e-01],\n",
      "         [ 9.5007e-01, -2.7250e-01,  8.3852e-01, -4.1063e-01],\n",
      "         [-3.8509e-01,  6.4570e-02,  7.1383e-02, -5.7461e-02],\n",
      "         [ 3.3798e-01, -6.0150e-01, -7.6297e-01, -5.5570e-01],\n",
      "         [ 8.8438e-01, -1.8205e-01,  5.2232e-01,  8.8964e-01],\n",
      "         [-5.6098e-01,  2.6435e-01,  1.1176e+00,  9.3345e-01],\n",
      "         [-6.8312e-01,  1.7132e-01, -1.7054e-01,  1.2702e-01],\n",
      "         [-1.3603e+00, -4.7902e-01, -9.3132e-01, -8.5660e-01],\n",
      "         [ 6.2362e-01,  8.2237e-01, -8.5766e-01, -4.5147e-01],\n",
      "         [ 7.0044e-01,  6.0795e-01,  1.0352e+00,  8.8201e-01],\n",
      "         [-3.2536e-01, -2.1668e-01, -7.6794e-01, -1.0226e+00],\n",
      "         [-9.7115e-01,  5.1387e-01, -4.8265e-01, -1.2605e-01],\n",
      "         [-4.4476e-02, -3.3360e-01, -3.5554e-01, -1.5986e-01],\n",
      "         [-9.0653e-01, -6.2715e-03,  1.2540e-01, -4.1124e-01],\n",
      "         [ 5.9226e-01, -7.8107e-01,  5.1260e-01,  9.0417e-01],\n",
      "         [ 7.3325e-02,  1.4918e+00,  1.7973e-01,  3.3961e-01],\n",
      "         [ 8.3501e-01,  8.4216e-01,  4.8899e-01,  1.2121e+00],\n",
      "         [-7.3164e-02,  1.3226e-01,  9.2063e-02, -2.3879e-01],\n",
      "         [-8.9594e-02, -2.1892e-01,  3.7076e-01,  2.7995e-01],\n",
      "         [ 3.6535e-01, -8.4451e-01,  1.4926e-01,  5.3534e-02],\n",
      "         [ 7.8065e-01,  7.4694e-01,  6.5494e-01,  1.7931e-01],\n",
      "         [ 8.3554e-01,  1.4035e+00,  1.2568e+00,  8.6540e-01],\n",
      "         [ 3.9092e-02,  1.2542e+00,  1.7490e-01,  4.4157e-01],\n",
      "         [ 9.0093e-01, -9.6327e-01,  2.5430e-01,  3.7557e-01],\n",
      "         [ 1.9854e-04,  6.1678e-01,  2.3608e-01, -1.3423e-01],\n",
      "         [-3.8768e-01,  1.2493e+00,  1.1662e-01,  5.4210e-01],\n",
      "         [ 1.8069e-01, -2.5631e-01,  1.5972e-01,  1.5498e-01]],\n",
      "\n",
      "        [[-9.9216e-02, -1.2052e+00, -5.3118e-01,  1.3526e-01],\n",
      "         [ 2.2405e-01,  1.6899e-01, -2.2071e-01, -8.4707e-01],\n",
      "         [ 1.8317e-01, -4.0764e-01,  3.1718e-02,  6.9192e-01],\n",
      "         [-2.2024e-01,  7.3281e-01, -6.2176e-01,  5.8325e-01],\n",
      "         [-3.2453e-01,  1.4236e-01,  5.6812e-02,  4.4280e-01],\n",
      "         [ 4.8071e-01, -1.5555e-01, -3.6705e-01,  5.4972e-01],\n",
      "         [-2.3775e-01, -8.8988e-01,  1.5387e-01,  5.2002e-01],\n",
      "         [ 2.9115e-01,  4.9756e-01,  5.1371e-01,  1.1693e+00],\n",
      "         [ 2.9439e-03,  5.1423e-01, -2.5496e-01, -2.5370e-01],\n",
      "         [-6.7991e-01, -7.0657e-01, -6.5900e-01, -6.8869e-01],\n",
      "         [-1.0211e+00, -5.5552e-01, -1.2104e+00,  2.1363e-01],\n",
      "         [-6.1270e-01, -5.7254e-01, -5.0340e-01, -1.2183e-01],\n",
      "         [ 2.1191e-01,  1.1352e-01, -1.8711e-01,  4.4438e-01],\n",
      "         [-6.8998e-01, -8.7535e-01,  1.7374e-01,  9.3803e-01],\n",
      "         [ 7.0447e-01,  7.4115e-01, -3.5995e-01,  1.2419e-01],\n",
      "         [-3.2526e-01, -1.8139e-01, -7.7577e-01,  1.7612e-01],\n",
      "         [ 1.4043e+00,  1.4688e+00,  3.0865e-01,  1.3327e+00],\n",
      "         [ 3.5973e-01,  5.9903e-01,  2.4193e-01,  4.0920e-01],\n",
      "         [-1.9554e-01, -3.1638e-02,  5.7310e-01,  5.1599e-01],\n",
      "         [ 1.5437e-01,  7.7513e-02,  5.4575e-02,  1.5549e-01],\n",
      "         [ 2.3083e-01, -7.8316e-02,  7.6353e-01,  1.0470e+00],\n",
      "         [ 9.1854e-01,  5.1698e-01,  2.4959e-01, -2.0793e-01],\n",
      "         [ 5.5719e-02,  9.2413e-02,  7.8495e-01,  4.9800e-01],\n",
      "         [ 8.3486e-01, -5.3222e-04,  1.0741e+00, -2.3491e-01],\n",
      "         [-3.9942e-01,  6.0075e-01, -2.8666e-01, -4.1837e-01],\n",
      "         [ 4.3140e-01, -1.1401e-01, -1.0509e-01, -2.0907e-01],\n",
      "         [ 4.2956e-01,  3.0737e-01,  1.1623e+00,  1.0814e+00],\n",
      "         [-4.1056e-01, -5.3911e-01,  1.1012e-01,  1.0183e+00],\n",
      "         [-6.7017e-01, -4.2809e-01, -6.2656e-01,  1.7180e-01],\n",
      "         [-1.2295e+00, -9.0210e-01, -7.5340e-01, -1.0192e+00],\n",
      "         [ 5.8659e-01,  1.1804e+00, -3.5222e-01, -2.0382e-01],\n",
      "         [ 5.4376e-01,  1.2335e-01, -3.7959e-02, -9.8571e-02],\n",
      "         [-5.4902e-01, -1.3806e+00, -1.0550e+00, -1.1530e+00],\n",
      "         [-9.6426e-01,  8.5167e-01, -7.8900e-01, -2.3412e-01],\n",
      "         [-3.9469e-01, -5.6996e-01, -8.5521e-01, -5.4124e-01],\n",
      "         [-1.0662e+00, -1.0971e+00, -5.9627e-01, -1.0056e+00],\n",
      "         [ 8.5092e-01,  4.1698e-02,  7.6420e-01,  9.0774e-01],\n",
      "         [ 9.8645e-02,  8.2822e-01,  9.7613e-01,  7.8415e-01],\n",
      "         [ 1.1735e+00,  1.1483e+00,  1.0195e+00,  1.8928e+00],\n",
      "         [-1.4261e-01,  1.6486e-01,  4.5466e-01,  4.2902e-02],\n",
      "         [ 3.3890e-02,  6.7670e-01, -1.1648e-01,  1.1968e-01],\n",
      "         [ 1.8603e-01, -3.1919e-01, -4.2060e-01,  1.1789e-01],\n",
      "         [ 9.7079e-01,  9.2799e-01,  8.5097e-01,  1.5216e-01],\n",
      "         [ 6.5592e-01,  4.8013e-01,  1.3674e+00,  1.1437e+00],\n",
      "         [ 2.7229e-01,  5.3607e-01,  4.6090e-01,  3.8782e-01],\n",
      "         [ 6.8826e-01, -2.2806e-01,  3.9687e-01, -2.8151e-01],\n",
      "         [ 8.7889e-02,  9.3815e-01, -3.6128e-01, -1.8106e-01],\n",
      "         [-2.7619e-01,  1.2638e+00,  1.0401e-01,  2.2843e-01],\n",
      "         [ 9.0633e-02,  1.4740e-01,  2.6521e-01, -2.1403e-01]],\n",
      "\n",
      "        [[-2.7830e-01, -8.0027e-01, -8.0096e-01,  3.9871e-01],\n",
      "         [ 5.5351e-01,  3.9109e-01,  3.6106e-01,  7.7641e-02],\n",
      "         [ 1.6761e-01, -9.9233e-02, -7.3835e-01,  2.5498e-01],\n",
      "         [-9.1097e-02,  6.7997e-01,  7.1018e-02,  5.4850e-01],\n",
      "         [-2.6384e-01, -1.6561e-02,  4.8292e-01,  9.0919e-02],\n",
      "         [ 4.8629e-01, -9.7186e-02,  1.4944e-02,  3.0063e-01],\n",
      "         [-7.5635e-02, -5.9151e-01,  1.5181e-01,  8.1904e-01],\n",
      "         [ 1.6733e-01,  1.9611e-01, -2.0130e-01,  8.3603e-01],\n",
      "         [-6.6272e-02, -2.4267e-01, -4.0941e-01,  1.4445e-02],\n",
      "         [-4.8631e-01, -7.3640e-01, -5.4066e-01, -3.3681e-01],\n",
      "         [-6.4123e-01,  2.4533e-01, -3.9589e-01,  1.7147e-01],\n",
      "         [-5.0485e-01, -8.4021e-02,  2.4231e-01, -5.5623e-02],\n",
      "         [ 2.5671e-01, -2.0078e-01,  5.5695e-02,  4.1048e-01],\n",
      "         [-6.2977e-01, -5.5893e-01, -7.2995e-02,  4.2690e-01],\n",
      "         [ 8.5576e-01,  1.6339e-01, -8.5862e-03, -5.7706e-01],\n",
      "         [-7.4186e-01, -1.9690e-01, -1.0767e+00, -9.4235e-01],\n",
      "         [ 9.5065e-01,  5.8787e-01, -1.8508e-01,  1.3508e-01],\n",
      "         [ 5.9254e-01,  6.0812e-01,  1.5783e-01,  4.5005e-01],\n",
      "         [ 1.8455e-01,  7.4749e-01,  8.9268e-01,  9.1473e-01],\n",
      "         [ 5.2160e-04, -3.2196e-02, -4.4224e-01, -4.5489e-01],\n",
      "         [-3.2222e-02, -2.5574e-01,  5.1643e-01,  6.0004e-01],\n",
      "         [ 8.9358e-01, -3.6357e-02, -3.8121e-01,  7.9593e-02],\n",
      "         [-2.8175e-01, -4.5005e-01, -2.0749e-01,  8.7871e-02],\n",
      "         [ 9.5430e-01,  8.3880e-02,  6.8040e-01, -4.7466e-01],\n",
      "         [-2.0967e-01,  5.5868e-02, -5.5724e-01, -6.8385e-02],\n",
      "         [ 4.2538e-01, -3.0352e-01, -8.3950e-02,  1.3120e-01],\n",
      "         [ 9.2775e-01,  7.7605e-01,  1.0999e+00,  9.5451e-01],\n",
      "         [-5.0564e-01, -7.4720e-01,  5.0882e-02,  6.8816e-01],\n",
      "         [-8.5780e-01, -5.5451e-01, -6.9721e-02, -1.7945e-01],\n",
      "         [-1.4651e+00, -9.7650e-01, -9.4712e-01, -1.5810e+00],\n",
      "         [ 5.2068e-01,  8.4660e-01, -6.1539e-01,  2.9104e-02],\n",
      "         [ 5.4047e-01,  1.8805e-01,  2.1834e-01, -1.5293e-01],\n",
      "         [-3.5734e-01, -4.8831e-01, -1.9310e-01, -1.1138e+00],\n",
      "         [-8.8560e-01,  6.2147e-01,  1.5057e-01,  2.7272e-01],\n",
      "         [-3.1699e-01, -8.4188e-01, -1.0181e+00, -1.3623e-01],\n",
      "         [-1.0669e+00, -4.5095e-01, -3.1665e-01, -1.2182e+00],\n",
      "         [ 7.4528e-01,  1.6482e-01, -1.0291e-01,  7.8720e-01],\n",
      "         [ 6.6150e-03,  7.2137e-01,  5.7137e-01,  3.9926e-01],\n",
      "         [ 1.0145e+00,  4.8124e-01,  1.1192e+00,  1.4441e+00],\n",
      "         [ 8.1454e-02,  2.3865e-01,  9.3327e-01, -9.8443e-02],\n",
      "         [ 1.0582e-01,  4.6487e-02,  7.0016e-01,  4.5051e-01],\n",
      "         [ 4.2480e-01, -4.3731e-01,  4.1006e-01,  4.7135e-01],\n",
      "         [ 7.8907e-01, -9.7540e-02,  2.4745e-01,  4.2937e-01],\n",
      "         [ 8.1154e-01,  1.3323e+00,  1.6616e+00,  4.7826e-01],\n",
      "         [ 1.9591e-01,  4.4696e-01,  7.6121e-01,  5.0553e-01],\n",
      "         [ 8.6100e-01, -6.4788e-02,  8.8215e-02,  4.7930e-01],\n",
      "         [-5.8275e-02,  9.7644e-01,  2.4442e-01,  1.9598e-01],\n",
      "         [-5.2313e-01,  2.2206e-01, -3.7499e-01, -5.3293e-01],\n",
      "         [ 2.6704e-01,  9.2753e-01,  9.5669e-01,  3.0619e-01]],\n",
      "\n",
      "        [[-6.4990e-02, -1.8917e-01, -8.7685e-01,  5.1342e-01],\n",
      "         [ 3.1265e-01, -2.4049e-01,  5.1182e-01, -8.6398e-01],\n",
      "         [ 5.6979e-01,  3.6393e-01, -6.2859e-01,  5.6996e-01],\n",
      "         [-1.2825e-02,  9.0234e-01, -9.7461e-03,  2.5161e-01],\n",
      "         [-3.2412e-01,  3.7097e-01, -1.5944e-01,  2.4551e-01],\n",
      "         [ 6.8939e-01, -1.6635e-02,  2.8039e-01,  3.0245e-01],\n",
      "         [-7.2058e-02, -5.7572e-01, -9.5476e-02,  7.9033e-01],\n",
      "         [ 4.3179e-01,  7.2346e-01,  2.7758e-01,  3.1684e-01],\n",
      "         [ 1.1542e-01, -4.6352e-02,  1.4900e-01,  3.2752e-01],\n",
      "         [-6.5537e-01, -3.9267e-01, -2.5317e-01,  6.3199e-02],\n",
      "         [-6.3321e-01, -2.7273e-01, -7.0171e-01, -2.8818e-01],\n",
      "         [-7.8141e-01, -8.1305e-01, -5.8733e-01, -2.5302e-01],\n",
      "         [ 1.6028e-01, -9.8455e-02, -1.4377e-01,  4.6497e-01],\n",
      "         [-6.7931e-01, -6.5208e-01, -2.2385e-01,  6.4362e-01],\n",
      "         [ 8.3776e-01,  8.5041e-01,  2.1110e-01, -1.9959e-01],\n",
      "         [-7.7871e-01, -1.9451e-01, -1.2766e+00, -1.1155e+00],\n",
      "         [ 9.5490e-01,  5.1995e-01,  2.8236e-01,  9.2260e-02],\n",
      "         [ 4.4797e-01,  1.9152e-01,  7.9614e-01,  3.2321e-01],\n",
      "         [ 1.7744e-01,  9.9150e-02,  4.9498e-01,  4.4503e-01],\n",
      "         [-4.6759e-02, -3.4968e-01,  3.6610e-02, -7.3958e-01],\n",
      "         [ 7.1514e-02,  4.4287e-02,  1.4998e-01,  1.1871e+00],\n",
      "         [ 9.5870e-01, -1.1272e-01,  3.2494e-01,  2.0849e-01],\n",
      "         [-1.0336e-01,  7.3529e-01,  3.7906e-02,  5.1268e-01],\n",
      "         [ 9.5808e-01, -6.7534e-01,  1.0748e+00, -3.3019e-02],\n",
      "         [-3.7937e-01,  1.1240e+00,  4.1664e-01, -2.2232e-01],\n",
      "         [ 9.2645e-02, -7.6119e-01, -3.4697e-01, -4.4086e-01],\n",
      "         [ 9.7196e-01,  5.7459e-01,  8.2240e-01,  8.8116e-01],\n",
      "         [-4.8881e-01,  5.9040e-01, -2.6216e-01,  1.1336e+00],\n",
      "         [-7.5570e-01, -3.2685e-01, -1.1341e+00, -3.5864e-01],\n",
      "         [-1.4316e+00, -1.3895e+00, -1.1502e+00, -6.9754e-01],\n",
      "         [ 6.2649e-01,  9.9992e-01, -2.1080e-02,  2.0634e-01],\n",
      "         [ 4.8059e-01,  3.8274e-01,  1.6888e-02,  2.1039e-01],\n",
      "         [-5.6408e-01, -7.8181e-01, -1.2475e+00, -1.2239e+00],\n",
      "         [-9.3923e-01,  8.0082e-01, -2.8877e-01, -4.2920e-01],\n",
      "         [-1.7648e-01, -8.7268e-01, -2.1119e-01, -1.3138e-02],\n",
      "         [-1.0805e+00, -3.4950e-01, -9.9776e-01, -9.5669e-01],\n",
      "         [ 8.3815e-01, -3.5169e-01,  6.1147e-01,  6.5043e-01],\n",
      "         [ 6.6077e-02,  1.3011e+00,  5.2106e-01,  5.7354e-01],\n",
      "         [ 1.0173e+00,  1.3151e+00,  9.1314e-01,  2.0558e+00],\n",
      "         [ 1.8305e-01,  2.6423e-01,  6.3108e-01, -1.1254e-01],\n",
      "         [ 4.7387e-02,  2.0194e-01,  9.7843e-01, -5.0740e-01],\n",
      "         [ 5.6580e-01, -9.0321e-02,  3.2662e-01,  5.6650e-01],\n",
      "         [ 5.6931e-01,  6.8387e-01,  1.2794e+00,  6.7455e-01],\n",
      "         [ 8.0561e-01,  8.4903e-01,  8.4033e-01,  1.5280e+00],\n",
      "         [ 2.8764e-01,  1.3782e+00,  2.0334e-01,  6.1230e-01],\n",
      "         [ 7.4451e-01, -3.4637e-01,  4.9402e-01, -1.4780e-01],\n",
      "         [-2.2747e-01,  3.4224e-01,  1.1240e-01, -4.5973e-01],\n",
      "         [-3.1053e-01,  1.0705e+00,  3.3900e-01,  2.5542e-01],\n",
      "         [ 3.0290e-01,  5.1791e-01,  6.7659e-01, -2.8102e-01]]],\n",
      "       grad_fn=<TransposeBackward0>)\n",
      "orth['enc_input_ids'].shape =  torch.Size([5, 5])\n",
      "orth['enc_input_ids'][:,1:] =  tensor([[11, 29,  1,  4],\n",
      "        [29, 18, 15,  1],\n",
      "        [11, 24, 14,  1],\n",
      "        [35, 25, 31,  1],\n",
      "        [33, 11, 29,  1]])\n",
      "torch.argmax(z['orth'], dim=1) =  tensor([[16, 16, 43, 38],\n",
      "        [16, 37, 43, 38],\n",
      "        [16, 16, 43, 38],\n",
      "        [38, 43, 43, 38],\n",
      "        [38, 44, 42, 38]])\n",
      "accuracy =  tensor(0.)\n"
     ]
    }
   ],
   "source": [
    "print(\"z['orth'].shape\", z['orth'].shape)\n",
    "print(\"z['orth'] = \", z['orth'])\n",
    "print(\"orth['enc_input_ids'].shape = \", orth['enc_input_ids'].shape)\n",
    "labels = orth['enc_input_ids'][:,1:]\n",
    "print(\"orth['enc_input_ids'][:,1:] = \", labels)\n",
    "preds = torch.argmax(z['orth'], dim=1)\n",
    "print(\"torch.argmax(z['orth'], dim=1) = \", preds)\n",
    "accuracy = (preds == labels).sum() / len(labels)\n",
    "print(\"accuracy = \", accuracy)"
   ]
  },
  {
   "cell_type": "code",
   "execution_count": 26,
   "metadata": {},
   "outputs": [
    {
     "data": {
      "text/plain": [
       "tensor([[16, 16, 43, 38],\n",
       "        [16, 37, 43, 38],\n",
       "        [16, 16, 43, 38],\n",
       "        [38, 43, 43, 38],\n",
       "        [38, 44, 42, 38]])"
      ]
     },
     "execution_count": 26,
     "metadata": {},
     "output_type": "execute_result"
    }
   ],
   "source": [
    "preds"
   ]
  },
  {
   "cell_type": "code",
   "execution_count": 27,
   "metadata": {},
   "outputs": [
    {
     "data": {
      "text/plain": [
       "tensor([[11, 29,  1,  4],\n",
       "        [29, 18, 15,  1],\n",
       "        [11, 24, 14,  1],\n",
       "        [35, 25, 31,  1],\n",
       "        [33, 11, 29,  1]])"
      ]
     },
     "execution_count": 27,
     "metadata": {},
     "output_type": "execute_result"
    }
   ],
   "source": [
    "labels"
   ]
  },
  {
   "cell_type": "code",
   "execution_count": 25,
   "metadata": {},
   "outputs": [
    {
     "data": {
      "text/plain": [
       "tensor([[False, False, False, False],\n",
       "        [False, False, False, False],\n",
       "        [False, False, False, False],\n",
       "        [False, False, False, False],\n",
       "        [False, False, False, False]])"
      ]
     },
     "execution_count": 25,
     "metadata": {},
     "output_type": "execute_result"
    }
   ],
   "source": [
    "preds == labels"
   ]
  },
  {
   "cell_type": "code",
   "execution_count": 35,
   "metadata": {},
   "outputs": [
    {
     "name": "stdout",
     "output_type": "stream",
     "text": [
      "z['phon'].shape torch.Size([5, 2, 4, 33])\n",
      "z['phon'] =  tensor([[[[ 0.4780, -0.6079,  0.6687,  ...,  0.0773,  0.0718,  0.5552],\n",
      "          [ 0.1672, -0.2810,  0.2328,  ...,  0.2251, -0.3893, -0.3242],\n",
      "          [ 0.8086, -0.8917,  1.0724,  ...,  1.1364,  0.3756,  0.3942],\n",
      "          [ 0.5570, -0.5401,  0.4696,  ...,  0.5681, -0.0911,  0.4643]],\n",
      "\n",
      "         [[ 0.1455, -0.1109, -0.1953,  ..., -0.5642, -0.5088,  0.4320],\n",
      "          [ 0.3923, -0.8616, -0.1826,  ..., -0.7779,  0.0059, -0.2665],\n",
      "          [-0.5334,  0.0481, -0.3345,  ...,  0.1287,  0.4419,  0.0799],\n",
      "          [ 0.5083, -0.3594, -0.0248,  ..., -0.7402, -0.2559,  0.1193]]],\n",
      "\n",
      "\n",
      "        [[[ 0.4243, -0.5763,  0.9033,  ..., -0.2028,  0.4345,  0.5487],\n",
      "          [ 0.1323,  0.0735,  0.5728,  ...,  0.6446,  0.1687, -0.4905],\n",
      "          [ 0.7618, -1.3454,  0.8989,  ..., -0.0811,  0.4465,  0.3425],\n",
      "          [ 0.4674, -0.7377,  0.5986,  ...,  0.3723,  0.3220,  0.4267]],\n",
      "\n",
      "         [[ 0.0974, -0.1940, -0.4095,  ..., -0.2966, -0.7366,  0.4630],\n",
      "          [-0.0403, -0.6785, -0.2936,  ..., -0.3065,  0.1312,  0.0027],\n",
      "          [-0.1631, -0.4108, -0.7651,  ...,  0.2145,  0.5310, -0.1606],\n",
      "          [ 0.6312, -0.3893, -0.3264,  ..., -0.6226, -0.4064,  0.1691]]],\n",
      "\n",
      "\n",
      "        [[[ 0.1170, -0.7257,  0.5084,  ..., -0.1395,  0.0570,  0.6415],\n",
      "          [-0.4282, -0.2417,  0.2525,  ...,  0.1093, -0.7225, -0.2890],\n",
      "          [ 0.4144, -0.9842,  0.8548,  ...,  0.7968,  0.3585,  0.9348],\n",
      "          [ 0.4079, -0.7215,  0.2869,  ...,  0.8731, -0.1044,  0.8884]],\n",
      "\n",
      "         [[-0.0534, -0.3214, -0.2976,  ..., -0.6458, -0.3373,  0.6300],\n",
      "          [ 0.1338, -0.8333, -0.0659,  ..., -1.1273,  0.0316,  0.0086],\n",
      "          [-0.7225,  0.0116, -0.3950,  ...,  0.0992,  0.5778,  0.3343],\n",
      "          [ 0.5680, -0.4517, -0.1155,  ..., -0.6687, -0.2820, -0.0468]]],\n",
      "\n",
      "\n",
      "        [[[ 0.4285, -0.5399,  0.8374,  ..., -0.3539,  0.1276,  0.6205],\n",
      "          [ 0.2107,  0.2007,  0.4146,  ...,  0.2914, -0.3683, -0.0701],\n",
      "          [ 0.7400, -0.9287,  0.9704,  ..., -0.0663,  0.3807,  0.6255],\n",
      "          [ 0.5711, -0.5098,  0.5272,  ...,  0.2421, -0.0784,  0.5296]],\n",
      "\n",
      "         [[ 0.1663, -0.3814, -0.3787,  ..., -0.4090, -0.6033,  0.6208],\n",
      "          [ 0.0707, -0.9428, -0.0734,  ..., -0.8623, -0.0648, -0.0647],\n",
      "          [-0.3268, -0.4318, -0.4818,  ...,  0.2865,  0.3594, -0.0114],\n",
      "          [ 0.5150, -0.6492, -0.0739,  ..., -0.7278, -0.2460,  0.2454]]],\n",
      "\n",
      "\n",
      "        [[[ 0.2744, -0.8391,  0.5732,  ..., -0.5298,  0.1738,  0.3346],\n",
      "          [-0.0105, -0.0633,  0.3733,  ...,  0.1273, -0.0831, -0.6926],\n",
      "          [ 0.9030, -1.1690,  0.6452,  ..., -0.1507,  0.5737,  0.4034],\n",
      "          [ 0.7789, -0.7692,  0.7218,  ...,  0.8257,  0.3392,  0.2046]],\n",
      "\n",
      "         [[-0.0351, -0.5977, -0.2164,  ..., -0.4301, -0.6746,  0.5036],\n",
      "          [-0.1070, -0.7385, -0.2762,  ..., -0.5129, -0.0863, -0.3784],\n",
      "          [-0.2955, -0.1742, -0.8248,  ...,  0.2911,  0.5603, -0.2621],\n",
      "          [ 0.3165, -0.7284,  0.0434,  ..., -0.3789, -0.3657, -0.3615]]]],\n",
      "       grad_fn=<TransposeBackward0>)\n"
     ]
    },
    {
     "data": {
      "text/plain": [
       "tensor([[[0, 1, 0, 1, 1, 1, 1, 1, 0, 1, 1, 0, 0, 0, 0, 0, 0, 0, 0, 0, 0, 1, 0,\n",
       "          0, 1, 0, 1, 1, 0, 0, 0, 0, 0],\n",
       "         [1, 0, 0, 1, 1, 1, 1, 0, 0, 1, 1, 0, 0, 0, 0, 1, 0, 0, 0, 0, 0, 0, 1,\n",
       "          0, 1, 1, 0, 0, 0, 0, 0, 1, 1],\n",
       "         [0, 1, 0, 1, 1, 0, 1, 0, 0, 1, 1, 1, 0, 0, 0, 0, 0, 0, 0, 0, 0, 1, 0,\n",
       "          0, 1, 1, 0, 0, 0, 0, 0, 1, 0],\n",
       "         [0, 1, 0, 1, 1, 0, 0, 0, 0, 1, 1, 1, 0, 0, 0, 1, 0, 0, 0, 0, 0, 1, 0,\n",
       "          0, 1, 1, 0, 0, 0, 0, 0, 0, 0]],\n",
       "\n",
       "        [[0, 1, 0, 1, 1, 1, 1, 1, 1, 0, 1, 0, 0, 0, 0, 0, 0, 0, 0, 0, 0, 1, 1,\n",
       "          0, 1, 0, 1, 1, 0, 0, 0, 0, 0],\n",
       "         [0, 0, 0, 1, 0, 0, 1, 0, 0, 1, 1, 0, 0, 0, 1, 1, 0, 0, 0, 0, 0, 0, 1,\n",
       "          0, 1, 1, 0, 0, 0, 0, 0, 0, 1],\n",
       "         [0, 1, 0, 1, 1, 0, 1, 1, 1, 0, 1, 1, 1, 0, 0, 0, 0, 0, 0, 0, 0, 0, 1,\n",
       "          0, 1, 1, 0, 0, 0, 0, 1, 1, 0],\n",
       "         [1, 1, 0, 1, 1, 0, 0, 0, 0, 1, 1, 1, 0, 1, 1, 1, 0, 0, 0, 0, 0, 1, 0,\n",
       "          0, 1, 1, 0, 0, 0, 0, 0, 0, 0]],\n",
       "\n",
       "        [[0, 1, 0, 0, 1, 1, 1, 1, 0, 0, 1, 0, 0, 0, 0, 1, 0, 0, 0, 0, 0, 1, 0,\n",
       "          0, 1, 0, 1, 1, 0, 0, 0, 0, 0],\n",
       "         [1, 0, 0, 0, 1, 0, 1, 0, 0, 1, 1, 0, 0, 0, 0, 1, 0, 0, 0, 0, 0, 0, 1,\n",
       "          0, 1, 1, 0, 0, 0, 0, 0, 1, 1],\n",
       "         [0, 1, 0, 1, 1, 0, 1, 0, 0, 0, 1, 1, 1, 0, 0, 0, 0, 0, 1, 0, 0, 0, 1,\n",
       "          0, 1, 1, 0, 1, 0, 0, 0, 1, 0],\n",
       "         [1, 1, 0, 1, 1, 0, 0, 0, 0, 1, 1, 1, 0, 0, 0, 0, 0, 0, 1, 0, 0, 1, 0,\n",
       "          0, 0, 1, 0, 0, 0, 0, 0, 0, 0]],\n",
       "\n",
       "        [[0, 1, 0, 1, 1, 1, 1, 1, 0, 1, 1, 0, 0, 0, 0, 1, 0, 0, 0, 0, 0, 1, 1,\n",
       "          0, 1, 0, 1, 1, 0, 0, 0, 0, 1],\n",
       "         [0, 0, 0, 1, 1, 0, 1, 0, 0, 1, 1, 1, 0, 0, 1, 1, 0, 0, 0, 0, 0, 0, 1,\n",
       "          0, 1, 1, 0, 0, 0, 0, 0, 1, 1],\n",
       "         [0, 1, 0, 1, 1, 0, 1, 0, 0, 0, 1, 1, 1, 0, 0, 0, 0, 0, 0, 0, 0, 0, 1,\n",
       "          0, 1, 1, 0, 0, 0, 0, 1, 0, 0],\n",
       "         [0, 0, 0, 1, 0, 0, 0, 0, 0, 1, 1, 1, 0, 0, 1, 1, 0, 0, 1, 0, 0, 1, 0,\n",
       "          0, 0, 1, 0, 0, 0, 0, 0, 0, 0]],\n",
       "\n",
       "        [[0, 1, 0, 0, 0, 1, 1, 1, 0, 1, 1, 0, 0, 0, 0, 1, 0, 0, 0, 0, 0, 1, 1,\n",
       "          1, 1, 0, 1, 1, 0, 0, 1, 0, 1],\n",
       "         [0, 0, 0, 0, 1, 0, 1, 0, 0, 1, 1, 1, 0, 0, 1, 1, 0, 0, 0, 0, 0, 0, 1,\n",
       "          0, 1, 1, 0, 0, 0, 0, 0, 0, 1],\n",
       "         [0, 1, 0, 0, 1, 0, 1, 0, 0, 0, 1, 1, 1, 1, 0, 0, 0, 0, 0, 0, 0, 0, 1,\n",
       "          0, 1, 1, 0, 0, 0, 0, 1, 0, 0],\n",
       "         [0, 1, 0, 1, 1, 0, 0, 0, 0, 1, 1, 1, 0, 0, 1, 0, 0, 0, 1, 0, 0, 1, 0,\n",
       "          0, 0, 1, 0, 0, 0, 0, 0, 0, 0]]])"
      ]
     },
     "execution_count": 35,
     "metadata": {},
     "output_type": "execute_result"
    }
   ],
   "source": [
    "print(\"z['phon'].shape\", z['phon'].shape)\n",
    "print(\"z['phon'] = \", z['phon'])\n",
    "torch.argmax(z['phon'], dim=1)"
   ]
  },
  {
   "cell_type": "code",
   "execution_count": 36,
   "metadata": {},
   "outputs": [
    {
     "data": {
      "text/plain": [
       "{'enc_input_ids': tensor([[ 0, 11, 29,  1,  4],\n",
       "         [ 0, 29, 18, 15,  1],\n",
       "         [ 0, 11, 24, 14,  1],\n",
       "         [ 0, 35, 25, 31,  1],\n",
       "         [ 0, 33, 11, 29,  1]]),\n",
       " 'dec_input_ids': tensor([[ 0, 11, 29,  4],\n",
       "         [ 0, 29, 18, 15],\n",
       "         [ 0, 11, 24, 14],\n",
       "         [ 0, 35, 25, 31],\n",
       "         [ 0, 33, 11, 29]]),\n",
       " 'enc_pad_mask': tensor([[False, False, False, False,  True],\n",
       "         [False, False, False, False, False],\n",
       "         [False, False, False, False, False],\n",
       "         [False, False, False, False, False],\n",
       "         [False, False, False, False, False]]),\n",
       " 'dec_pad_mask': tensor([[False, False, False,  True],\n",
       "         [False, False, False, False],\n",
       "         [False, False, False, False],\n",
       "         [False, False, False, False],\n",
       "         [False, False, False, False]])}"
      ]
     },
     "execution_count": 36,
     "metadata": {},
     "output_type": "execute_result"
    }
   ],
   "source": [
    "orth"
   ]
  },
  {
   "cell_type": "code",
   "execution_count": 43,
   "metadata": {},
   "outputs": [],
   "source": [
    "logits = m(orth['enc_input_ids'], orth['enc_pad_mask'],\n",
    "                orth['dec_input_ids'], orth['dec_pad_mask'],\n",
    "                phon['enc_input_ids'], phon['enc_pad_mask'],\n",
    "                phon['dec_input_ids'], phon['dec_pad_mask'])\n",
    "        \n",
    "orth_loss = torch.nn.CrossEntropyLoss(ignore_index=4)(logits['orth'], orth['enc_input_ids'][:,1:]) \n",
    "phon_loss = torch.nn.CrossEntropyLoss(ignore_index=2)(logits['phon'], phon['targets'])\n",
    "loss = orth_loss + phon_loss"
   ]
  },
  {
   "cell_type": "code",
   "execution_count": 44,
   "metadata": {},
   "outputs": [
    {
     "ename": "TypeError",
     "evalue": "zeros_like(): argument 'input' (position 1) must be Tensor, not dict",
     "output_type": "error",
     "traceback": [
      "\u001b[0;31m---------------------------------------------------------------------------\u001b[0m",
      "\u001b[0;31mTypeError\u001b[0m                                 Traceback (most recent call last)",
      "\u001b[1;32m/Users/erlebach/src/2023/ConnTextUL/scratchpad_GE.ipynb Cell 19\u001b[0m in \u001b[0;36m2\n\u001b[1;32m      <a href='vscode-notebook-cell:/Users/erlebach/src/2023/ConnTextUL/scratchpad_GE.ipynb#X21sZmlsZQ%3D%3D?line=0'>1</a>\u001b[0m z_prime \u001b[39m=\u001b[39m m\u001b[39m.\u001b[39mgenerate(orth_enc_input\u001b[39m=\u001b[39morth, \n\u001b[0;32m----> <a href='vscode-notebook-cell:/Users/erlebach/src/2023/ConnTextUL/scratchpad_GE.ipynb#X21sZmlsZQ%3D%3D?line=1'>2</a>\u001b[0m                      orth_enc_pad_mask\u001b[39m=\u001b[39mtorch\u001b[39m.\u001b[39;49mzeros_like(orth)\u001b[39m.\u001b[39mbool(), \n\u001b[1;32m      <a href='vscode-notebook-cell:/Users/erlebach/src/2023/ConnTextUL/scratchpad_GE.ipynb#X21sZmlsZQ%3D%3D?line=2'>3</a>\u001b[0m                      phon_enc_input\u001b[39m=\u001b[39mphon, \n\u001b[1;32m      <a href='vscode-notebook-cell:/Users/erlebach/src/2023/ConnTextUL/scratchpad_GE.ipynb#X21sZmlsZQ%3D%3D?line=3'>4</a>\u001b[0m                      phon_enc_pad_mask\u001b[39m=\u001b[39mtorch\u001b[39m.\u001b[39mzeros_like(phon)\u001b[39m.\u001b[39mbool(), \n\u001b[1;32m      <a href='vscode-notebook-cell:/Users/erlebach/src/2023/ConnTextUL/scratchpad_GE.ipynb#X21sZmlsZQ%3D%3D?line=4'>5</a>\u001b[0m                      deterministic\u001b[39m=\u001b[39m\u001b[39mTrue\u001b[39;00m)[\u001b[39m'\u001b[39m\u001b[39morth\u001b[39m\u001b[39m'\u001b[39m][:, \u001b[39m1\u001b[39m:]\n\u001b[1;32m      <a href='vscode-notebook-cell:/Users/erlebach/src/2023/ConnTextUL/scratchpad_GE.ipynb#X21sZmlsZQ%3D%3D?line=5'>6</a>\u001b[0m z_prime\n",
      "\u001b[0;31mTypeError\u001b[0m: zeros_like(): argument 'input' (position 1) must be Tensor, not dict"
     ]
    }
   ],
   "source": [
    "z_prime = m.generate(orth_enc_input=orth, \n",
    "                     orth_enc_pad_mask=torch.zeros_like(orth).bool(), \n",
    "                     phon_enc_input=phon, \n",
    "                     phon_enc_pad_mask=torch.zeros_like(phon).bool(), \n",
    "                     deterministic=True)['orth'][:, 1:]\n",
    "z_prime\n"
   ]
  },
  {
   "cell_type": "code",
   "execution_count": 28,
   "metadata": {},
   "outputs": [
    {
     "data": {
      "text/plain": [
       "tensor([[[[ 0.6767, -0.1219, -0.5411,  0.1170, -0.3387, -0.1288, -0.5503,\n",
       "            0.6902,  0.1972, -0.2650,  0.5467,  0.9316,  0.4024, -0.4422,\n",
       "           -0.1477,  0.7241, -0.9001, -0.2532,  0.5851,  1.1965, -0.7901,\n",
       "            0.2979, -0.0242,  0.4706,  0.8686,  0.1165,  0.4917,  0.5010,\n",
       "           -0.1539, -0.0028,  0.1609, -0.2441,  0.3435]],\n",
       "\n",
       "         [[ 0.5110,  0.4595, -0.6616,  0.0228, -0.6862,  0.1313,  0.8328,\n",
       "            0.2021,  0.2570,  0.8814,  0.1321, -0.1988, -0.1504, -0.1617,\n",
       "            0.7846, -0.2460,  0.9513, -0.4330, -0.6739,  0.0562,  0.5938,\n",
       "            0.0119, -0.3092, -0.0674,  0.9380,  0.5049,  0.0826, -0.9075,\n",
       "            0.3517,  0.6457,  0.2784, -0.3076,  0.8851]]]],\n",
       "       grad_fn=<TransposeBackward0>)"
      ]
     },
     "execution_count": 28,
     "metadata": {},
     "output_type": "execute_result"
    }
   ],
   "source": [
    "\n",
    "#assert z.item() == z_prime.item()\n",
    "\n",
    "################# Check Phonology ########################\n",
    "z = m(orth, \n",
    "      torch.zeros_like(orth).bool(), \n",
    "      orth, \n",
    "      torch.zeros_like(orth).bool(),\n",
    "      [[phon][0]], \n",
    "      torch.zeros_like(phon).bool(), \n",
    "      [[phon][0]], \n",
    "      torch.zeros_like(phon).bool()\n",
    ")['phon']; z\n"
   ]
  },
  {
   "cell_type": "code",
   "execution_count": 39,
   "metadata": {},
   "outputs": [
    {
     "name": "stdout",
     "output_type": "stream",
     "text": [
      "20\n"
     ]
    }
   ],
   "source": [
    "\n",
    "z_prime = m.generate(orth, \n",
    "                     torch.zeros_like(orth).bool(), \n",
    "                     [[phon][0]], \n",
    "                     torch.zeros_like(phon).bool(), \n",
    "                     deterministic=True)['phon']\n",
    "z_prime\n",
    "\n",
    "#assert (torch.where(z[0].argmax(dim=0) == 1)[1] == z_prime[0][1]).all()\n",
    "print(len(z_prime[0]))"
   ]
  },
  {
   "cell_type": "code",
   "execution_count": 42,
   "metadata": {},
   "outputs": [],
   "source": [
    "B,C,E = 2,3,4\n",
    "a = torch.rand((B,C,E))"
   ]
  },
  {
   "cell_type": "code",
   "execution_count": 44,
   "metadata": {},
   "outputs": [
    {
     "name": "stdout",
     "output_type": "stream",
     "text": [
      "torch.Size([2, 3, 4])\n",
      "torch.Size([2, 4, 3])\n"
     ]
    }
   ],
   "source": [
    "print(a.shape)\n",
    "print(a.transpose(1,2).shape)"
   ]
  },
  {
   "cell_type": "code",
   "execution_count": 62,
   "metadata": {},
   "outputs": [
    {
     "data": {
      "text/plain": [
       "tensor([[[0.4301, 0.9611, 0.7723, 0.9204, 0.1864, 0.3543, 0.0298, 0.9956,\n",
       "          0.0215, 0.8572, 0.2218, 0.4789, 0.0823, 0.7532, 0.1532, 0.0425,\n",
       "          0.4336, 0.8475, 0.8205, 0.8800, 0.2938, 0.7716, 0.4422, 0.3135,\n",
       "          0.1729, 0.0260, 0.9826, 0.9753, 0.2033, 0.6105, 0.4312, 0.0927,\n",
       "          0.9542],\n",
       "         [0.7559, 0.8657, 0.4542, 0.3938, 0.1533, 0.3608, 0.4802, 0.3396,\n",
       "          0.7139, 0.2800, 0.1930, 0.4848, 0.7758, 0.4037, 0.2637, 0.3022,\n",
       "          0.6368, 0.4707, 0.4163, 0.9229, 0.5459, 0.4463, 0.9723, 0.4306,\n",
       "          0.7044, 0.4951, 0.3131, 0.5019, 0.4948, 0.4797, 0.4198, 0.3487,\n",
       "          0.9346]]])"
      ]
     },
     "execution_count": 62,
     "metadata": {},
     "output_type": "execute_result"
    }
   ],
   "source": [
    "p=torch.rand((1,2,33)); p"
   ]
  },
  {
   "cell_type": "code",
   "execution_count": 78,
   "metadata": {},
   "outputs": [
    {
     "data": {
      "text/plain": [
       "tensor([[1., 1., 0., 1., 0., 0., 0., 1., 0., 0., 1., 1., 1., 0., 1., 1., 1., 1.,\n",
       "         1., 1., 1., 0., 1., 0., 1., 0., 0., 0., 0., 1., 0., 0., 1.]])"
      ]
     },
     "execution_count": 78,
     "metadata": {},
     "output_type": "execute_result"
    }
   ],
   "source": [
    "torch.bernoulli(p[:,1,:])"
   ]
  },
  {
   "cell_type": "code",
   "execution_count": 70,
   "metadata": {},
   "outputs": [
    {
     "data": {
      "text/plain": [
       "tensor([[1., 1., 1., 1., 0., 0., 0., 1., 0., 1., 1., 0., 0., 0., 0., 0., 0., 0.,\n",
       "         1., 1., 1., 1., 1., 0., 0., 0., 1., 1., 0., 0., 0., 0., 1.],\n",
       "        [1., 1., 0., 0., 0., 0., 0., 1., 1., 0., 0., 1., 1., 1., 0., 0., 1., 1.,\n",
       "         0., 1., 1., 0., 1., 1., 1., 1., 1., 0., 0., 0., 0., 0., 1.]])"
      ]
     },
     "execution_count": 70,
     "metadata": {},
     "output_type": "execute_result"
    }
   ],
   "source": [
    "torch.bernoulli(p)[0]"
   ]
  },
  {
   "cell_type": "code",
   "execution_count": 80,
   "metadata": {},
   "outputs": [
    {
     "data": {
      "text/plain": [
       "tensor([[0.7559, 0.8657, 0.4542, 0.3938, 0.1533, 0.3608, 0.4802, 0.3396, 0.7139,\n",
       "         0.2800, 0.1930, 0.4848, 0.7758, 0.4037, 0.2637, 0.3022, 0.6368, 0.4707,\n",
       "         0.4163, 0.9229, 0.5459, 0.4463, 0.9723, 0.4306, 0.7044, 0.4951, 0.3131,\n",
       "         0.5019, 0.4948, 0.4797, 0.4198, 0.3487, 0.9346]])"
      ]
     },
     "execution_count": 80,
     "metadata": {},
     "output_type": "execute_result"
    }
   ],
   "source": [
    "p[:,1]"
   ]
  },
  {
   "cell_type": "code",
   "execution_count": 84,
   "metadata": {},
   "outputs": [
    {
     "data": {
      "text/plain": [
       "tensor([ 0,  1,  8, 12, 16, 19, 20, 22, 24, 27, 32])"
      ]
     },
     "execution_count": 84,
     "metadata": {},
     "output_type": "execute_result"
    }
   ],
   "source": [
    "torch.where(p[:,1] > 0.5)[1]"
   ]
  },
  {
   "cell_type": "code",
   "execution_count": 173,
   "metadata": {},
   "outputs": [],
   "source": [
    "chkpt = torch.load('models/model0_checkpoint99.pth', map_location=torch.device('cpu'))\n",
    "m = Model(len(ds.character_tokenizer), len(ds.phonology_tokenizer), d_model=chkpt['d_model'], nhead=chkpt['nhead'])\n",
    "m.load_state_dict(chkpt['model'])\n",
    "m.eval();"
   ]
  },
  {
   "cell_type": "code",
   "execution_count": 178,
   "metadata": {},
   "outputs": [
    {
     "name": "stdout",
     "output_type": "stream",
     "text": [
      "word =  ['sam']\n"
     ]
    }
   ],
   "source": [
    "idx = 10040\n",
    "word = ds.words[idx:idx+1]\n",
    "print(\"word = \", word)\n",
    "batch = ds[idx:idx+1]\n",
    "#print(\"batch = \", batch)\n",
    "orth, phon = batch['orthography'].to('cpu'), batch['phonology'].to('cpu')\n",
    "orthography = orth['enc_input_ids']\n",
    "orthography_mask = orth['enc_pad_mask']\n",
    "phonology = phon['enc_input_ids']\n",
    "phonology_mask = phon['enc_pad_mask']"
   ]
  },
  {
   "cell_type": "code",
   "execution_count": 179,
   "metadata": {},
   "outputs": [],
   "source": [
    "generation = m.generate(orthography, orthography_mask, phonology, phonology_mask, deterministic=False)"
   ]
  },
  {
   "cell_type": "code",
   "execution_count": 180,
   "metadata": {},
   "outputs": [
    {
     "data": {
      "text/plain": [
       "['[BOS]ci”γ[EOS][EOS][EOS][EOS][EOS][EOS][EOS][EOS][EOS][EOS][EOS][EOS]γ[EOS]γ']"
      ]
     },
     "execution_count": 180,
     "metadata": {},
     "output_type": "execute_result"
    }
   ],
   "source": [
    "ds.character_tokenizer.decode(generation['orth'][:,:].tolist())"
   ]
  },
  {
   "cell_type": "code",
   "execution_count": 181,
   "metadata": {},
   "outputs": [
    {
     "data": {
      "text/plain": [
       "[tensor([31]),\n",
       " tensor([ 9, 14]),\n",
       " tensor([14, 15, 17, 26, 28, 29]),\n",
       " tensor([32]),\n",
       " tensor([32]),\n",
       " tensor([32]),\n",
       " tensor([32]),\n",
       " tensor([32]),\n",
       " tensor([32]),\n",
       " tensor([32]),\n",
       " tensor([32]),\n",
       " tensor([32]),\n",
       " tensor([32]),\n",
       " tensor([32]),\n",
       " tensor([32]),\n",
       " tensor([32]),\n",
       " tensor([32]),\n",
       " tensor([14, 18]),\n",
       " tensor([32]),\n",
       " tensor([32])]"
      ]
     },
     "execution_count": 181,
     "metadata": {},
     "output_type": "execute_result"
    }
   ],
   "source": [
    "generation['phon'][0]"
   ]
  },
  {
   "cell_type": "code",
   "execution_count": null,
   "metadata": {},
   "outputs": [],
   "source": [
    "ds.phonology_tokenizer.decode(generation['phon'][0])"
   ]
  },
  {
   "cell_type": "code",
   "execution_count": 148,
   "metadata": {},
   "outputs": [
    {
     "name": "stdout",
     "output_type": "stream",
     "text": [
      "['[BOS]', '[EOS]', '[CLS]', '[UNK]', '[PAD]', 'i', '’', '\\x80', 'o', 'f', 'โ', 'v', '“', '.', ',', 'r', \"'\", '\\x9d', '\\x9c', 'g', 'k', 'c', 'n', 'm', 'z', '-', 'y', 'e', 'h', 'j', 'p', 'x', 's', '\"', 'q', '\\x94', 'ç', '¥', 'w', '”', 'l', 'a', '!', 'u', 'b', 'd', 't', '—', 'γ']\n"
     ]
    }
   ],
   "source": [
    "print(ds.character_tokenizer.vocab)"
   ]
  },
  {
   "cell_type": "code",
   "execution_count": 158,
   "metadata": {},
   "outputs": [
    {
     "data": {
      "text/plain": [
       "['__add__',\n",
       " '__class__',\n",
       " '__class_getitem__',\n",
       " '__delattr__',\n",
       " '__dict__',\n",
       " '__dir__',\n",
       " '__doc__',\n",
       " '__eq__',\n",
       " '__format__',\n",
       " '__ge__',\n",
       " '__getattribute__',\n",
       " '__getitem__',\n",
       " '__gt__',\n",
       " '__hash__',\n",
       " '__init__',\n",
       " '__init_subclass__',\n",
       " '__le__',\n",
       " '__len__',\n",
       " '__lt__',\n",
       " '__module__',\n",
       " '__ne__',\n",
       " '__new__',\n",
       " '__orig_bases__',\n",
       " '__parameters__',\n",
       " '__reduce__',\n",
       " '__reduce_ex__',\n",
       " '__repr__',\n",
       " '__setattr__',\n",
       " '__sizeof__',\n",
       " '__slots__',\n",
       " '__str__',\n",
       " '__subclasshook__',\n",
       " '__weakref__',\n",
       " '_is_protocol',\n",
       " 'character_tokenizer',\n",
       " 'dataset',\n",
       " 'phonology_tokenizer',\n",
       " 'words']"
      ]
     },
     "execution_count": 158,
     "metadata": {},
     "output_type": "execute_result"
    }
   ],
   "source": [
    "ds"
   ]
  },
  {
   "cell_type": "code",
   "execution_count": null,
   "metadata": {},
   "outputs": [],
   "source": []
  }
 ],
 "metadata": {
  "kernelspec": {
   "display_name": "Python 3",
   "language": "python",
   "name": "python3"
  },
  "language_info": {
   "codemirror_mode": {
    "name": "ipython",
    "version": 3
   },
   "file_extension": ".py",
   "mimetype": "text/x-python",
   "name": "python",
   "nbconvert_exporter": "python",
   "pygments_lexer": "ipython3",
   "version": "3.8.13"
  },
  "orig_nbformat": 4,
  "vscode": {
   "interpreter": {
    "hash": "31f2aee4e71d21fbe5cf8b01ff0e069b9275f58929596ceb00d14d90e3e16cd6"
   }
  }
 },
 "nbformat": 4,
 "nbformat_minor": 2
}
