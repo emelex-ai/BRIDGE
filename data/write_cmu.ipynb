{
 "cells": [
  {
   "cell_type": "code",
   "execution_count": 1,
   "id": "a72219ad",
   "metadata": {},
   "outputs": [],
   "source": [
    "import nltk\n",
    "import pandas as pd\n",
    "\n",
    "#nltk.download('cmudict')\n",
    "\n",
    "cmudict = nltk.corpus.cmudict.dict()\n",
    "into_reading_df = pd.read_csv(\"into_reading/into_reading_sequentially_arranged.csv\")\n",
    "\n",
    "\n",
    "import json\n",
    "\n",
    "with open(\"raw/custom_cmudict.json\", \"r\") as f:\n",
    "    custom_cmudict = json.load(f)"
   ]
  },
  {
   "cell_type": "markdown",
   "id": "da030f32",
   "metadata": {},
   "source": [
    "This script writes a CSV version of CMUdict so that the database can be referenced in R scripts for the project."
   ]
  },
  {
   "cell_type": "code",
   "execution_count": 2,
   "id": "85711cba",
   "metadata": {},
   "outputs": [],
   "source": [
    "cmu = set(cmudict.keys())\n",
    "into_reading = [word for word in set(into_reading_df.word.values)]"
   ]
  },
  {
   "cell_type": "markdown",
   "id": "479fae56",
   "metadata": {},
   "source": [
    "Look at words in Into Reading not in CMUdict. These words should have encodings in `custom_cmudict.json`"
   ]
  },
  {
   "cell_type": "code",
   "execution_count": 3,
   "id": "5c8c8a2b",
   "metadata": {},
   "outputs": [],
   "source": [
    "for word in into_reading:\n",
    "    if word not in cmu and word not in custom_cmudict.keys():\n",
    "        print(word)\n",
    "        "
   ]
  },
  {
   "cell_type": "code",
   "execution_count": 4,
   "id": "9f11d11a",
   "metadata": {},
   "outputs": [],
   "source": [
    "df = pd.DataFrame(list(cmu))\n",
    "df.to_csv(\"raw/cmu_words.csv\", index=False, header=False)\n"
   ]
  }
 ],
 "metadata": {
  "kernelspec": {
   "display_name": "Python 3",
   "language": "python",
   "name": "python3"
  },
  "language_info": {
   "codemirror_mode": {
    "name": "ipython",
    "version": 3
   },
   "file_extension": ".py",
   "mimetype": "text/x-python",
   "name": "python",
   "nbconvert_exporter": "python",
   "pygments_lexer": "ipython3",
   "version": "3.12.11"
  }
 },
 "nbformat": 4,
 "nbformat_minor": 5
}
