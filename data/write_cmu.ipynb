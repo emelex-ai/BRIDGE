{
 "cells": [
  {
   "cell_type": "code",
   "execution_count": 1,
   "id": "a72219ad",
   "metadata": {},
   "outputs": [],
   "source": [
    "import nltk\n",
    "\n",
    "cmu = nltk.corpus.cmudict.dict()"
   ]
  },
  {
   "cell_type": "code",
   "execution_count": 2,
   "id": "e4813d95",
   "metadata": {},
   "outputs": [],
   "source": [
    "with open(\"raw/cmu_words.csv\", \"w\") as file:\n",
    "    for word in cmu.keys():\n",
    "        file.write(\"{}\\n\".format(word))\n",
    "file.close()"
   ]
  }
 ],
 "metadata": {
  "kernelspec": {
   "display_name": "Python 3",
   "language": "python",
   "name": "python3"
  },
  "language_info": {
   "codemirror_mode": {
    "name": "ipython",
    "version": 3
   },
   "file_extension": ".py",
   "mimetype": "text/x-python",
   "name": "python",
   "nbconvert_exporter": "python",
   "pygments_lexer": "ipython3",
   "version": "3.12.9"
  }
 },
 "nbformat": 4,
 "nbformat_minor": 5
}
