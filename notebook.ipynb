{
 "cells": [
  {
   "cell_type": "code",
   "execution_count": 1,
   "metadata": {},
   "outputs": [
    {
     "name": "stderr",
     "output_type": "stream",
     "text": [
      "/home/uzair/Workspace/BRIDGE/src/utils/helper_funtions.py:69: FutureWarning: You are using `torch.load` with `weights_only=False` (the current default value), which uses the default pickle module implicitly. It is possible to construct malicious pickle data which will execute arbitrary code during unpickling (See https://github.com/pytorch/pytorch/blob/main/SECURITY.md#untrusted-models for more details). In a future release, the default value for `weights_only` will be flipped to `True`. This limits the functions that could be executed during unpickling. Arbitrary objects will no longer be allowed to be loaded via this mode unless they are explicitly allowlisted by the user via `torch.serialization.add_safe_globals`. We recommend you start setting `weights_only=True` for any use case where you don't have full control of the loaded file. Please open an issue on GitHub for any issues related to this experimental feature.\n",
      "  checkpoint = torch.load(checkpoint_path)\n"
     ]
    }
   ],
   "source": [
    "from src.domain.model import Model\n",
    "from src.domain.datamodels import DatasetConfig, ModelConfig\n",
    "from pathlib import Path\n",
    "from src.utils.helper_funtions import load_model_config\n",
    "from src.domain.dataset.bridge_dataset import BridgeDataset\n",
    "\n",
    "# First, let's set up our model and generate some outputs as shown previously\n",
    "dataset_path = Path(\"input_data.pkl\")\n",
    "checkpoint_path = Path(\"model_artifacts/2025_02_09_run_001/model_epoch_5.pth\")\n",
    "\n",
    "config_dict = load_model_config(checkpoint_path)\n",
    "dataset_config = DatasetConfig(**config_dict[\"dataset_config\"])\n",
    "model_config = ModelConfig(**config_dict[\"model_config\"])\n",
    "\n",
    "# Initialize dataset and model\n",
    "dataset = BridgeDataset(dataset_config)\n",
    "model = Model(model_config, dataset_config)\n",
    "\n",
    "# Load weights and set model to evaluation mode\n",
    "model.load_state_dict(config_dict[\"model_state_dict\"])\n",
    "model.eval()\n",
    "\n",
    "# Generate outputs for a few example words\n",
    "words = [\"cat\", \"hat\"]\n",
    "encodings = dataset.encode(words)"
   ]
  },
  {
   "cell_type": "code",
   "execution_count": 7,
   "metadata": {},
   "outputs": [],
   "source": [
    "output = model.generate(encodings, pathway=\"o2p\").model_dump()"
   ]
  },
  {
   "cell_type": "code",
   "execution_count": 8,
   "metadata": {},
   "outputs": [
    {
     "name": "stderr",
     "output_type": "stream",
     "text": [
      "No phoneme found for feature vector: (0, 0, 0, 0, 0, 0, 0, 0, 0, 0, 0, 0, 0, 0, 1, 0, 0, 0, 0, 0, 1, 0, 0, 0, 0, 0, 0, 0, 0, 0, 0). Calculating cosine similarity.\n",
      "No phoneme found for feature vector: (0, 0, 0, 0, 0, 0, 0, 0, 0, 0, 0, 0, 0, 0, 1, 1, 0, 0, 0, 0, 0, 0, 0, 0, 0, 0, 0, 0, 0, 1, 0). Calculating cosine similarity.\n",
      "No phoneme found for feature vector: (0, 0, 0, 0, 0, 0, 0, 0, 0, 1, 0, 0, 0, 0, 0, 0, 0, 0, 0, 0, 0, 0, 1, 0, 0, 0, 0, 0, 0, 0, 0). Calculating cosine similarity.\n",
      "No phoneme found for feature vector: (0, 0, 1, 0, 0, 0, 0, 0, 1, 0, 0, 0, 0, 0, 0, 0, 0, 0, 0, 0, 0, 0, 0, 0, 0, 1, 0, 0, 0, 0, 0). Calculating cosine similarity.\n",
      "No phoneme found for feature vector: (0, 0, 0, 0, 0, 0, 0, 0, 1, 0, 0, 0, 0, 0, 1, 0, 1, 0, 0, 0, 0, 0, 0, 0, 0, 0, 0, 0, 0, 0, 0). Calculating cosine similarity.\n",
      "No phoneme found for feature vector: (0, 0, 0, 0, 0, 0, 1, 0, 0, 0, 0, 0, 1, 0, 0, 0, 0, 0, 0, 0, 0, 0, 0, 0, 0, 0, 0, 0, 0, 0, 0). Calculating cosine similarity.\n",
      "No phoneme found for feature vector: (0, 0, 0, 0, 0, 0, 0, 0, 0, 0, 0, 0, 0, 0, 0, 0, 0, 0, 0, 0, 0, 0, 0, 0, 1, 1, 0, 0, 0, 0, 0). Calculating cosine similarity.\n",
      "No phoneme found for feature vector: (0, 0, 0, 0, 0, 0, 0, 0, 0, 0, 0, 0, 0, 0, 1, 1, 0, 0, 0, 0, 0, 0, 0, 0, 0, 0, 0, 0, 0, 1, 0). Calculating cosine similarity.\n",
      "No phoneme found for feature vector: (0, 0, 0, 0, 0, 0, 0, 0, 0, 1, 0, 0, 0, 0, 0, 0, 0, 0, 0, 0, 0, 0, 0, 0, 0, 0, 0, 0, 0, 0, 0). Calculating cosine similarity.\n",
      "No phoneme found for feature vector: (0, 0, 0, 1, 0, 0, 0, 0, 0, 0, 0, 0, 0, 0, 0, 0, 0, 0, 0, 0, 0, 0, 0, 0, 0, 0, 0, 0, 0, 0, 0). Calculating cosine similarity.\n",
      "No phoneme found for feature vector: (0, 0, 0, 0, 0, 0, 0, 0, 0, 1, 0, 0, 0, 0, 0, 0, 0, 0, 0, 0, 0, 0, 0, 0, 1, 0, 0, 0, 0, 0, 0). Calculating cosine similarity.\n",
      "No phoneme found for feature vector: (0, 0, 0, 0, 0, 0, 0, 0, 0, 0, 0, 0, 0, 0, 0, 0, 0, 0, 0, 0, 0, 0, 0, 0, 0, 0, 0, 1, 0, 0, 0). Calculating cosine similarity.\n"
     ]
    }
   ],
   "source": [
    "decoded_results = []\n",
    "phon_tokens = output.get(\"phon_tokens\")\n",
    "phon_token_list = phon_tokens.tolist() if hasattr(phon_tokens, \"tolist\") else phon_tokens\n",
    "\n",
    "for i, token_seq in enumerate(phon_token_list):\n",
    "    decoded_word = dataset.phonemizer.decode(token_seq)\n",
    "    if i < len(words):\n",
    "        decoded_results.append({words[i]: decoded_word})\n",
    "    else:\n",
    "        decoded_results.append(decoded_word)"
   ]
  },
  {
   "cell_type": "code",
   "execution_count": 9,
   "metadata": {},
   "outputs": [
    {
     "data": {
      "text/plain": [
       "[{'cat': ['AX0', 'IH1', 'M', 'CH', 'AH0', 'K', 'IX0']},\n",
       " {'hat': ['Q', 'IH1', 'M', 'CH', 'M', 'AY0']}]"
      ]
     },
     "execution_count": 9,
     "metadata": {},
     "output_type": "execute_result"
    }
   ],
   "source": [
    "decoded_results"
   ]
  },
  {
   "cell_type": "code",
   "execution_count": null,
   "metadata": {},
   "outputs": [],
   "source": []
  }
 ],
 "metadata": {
  "kernelspec": {
   "display_name": "bridge",
   "language": "python",
   "name": "python3"
  },
  "language_info": {
   "codemirror_mode": {
    "name": "ipython",
    "version": 3
   },
   "file_extension": ".py",
   "mimetype": "text/x-python",
   "name": "python",
   "nbconvert_exporter": "python",
   "pygments_lexer": "ipython3",
   "version": "3.12.7"
  }
 },
 "nbformat": 4,
 "nbformat_minor": 2
}
